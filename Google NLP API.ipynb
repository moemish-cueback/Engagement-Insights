{
 "cells": [
  {
   "cell_type": "code",
   "execution_count": 20,
   "metadata": {},
   "outputs": [],
   "source": [
    "from google.cloud import language_v1\n",
    "import os\n",
    "import re"
   ]
  },
  {
   "cell_type": "code",
   "execution_count": 16,
   "metadata": {},
   "outputs": [],
   "source": [
    "os.environ[\"GOOGLE_APPLICATION_CREDENTIALS\"] = './cueback-app-e91f3f8c0155.json'"
   ]
  },
  {
   "cell_type": "code",
   "execution_count": 3,
   "metadata": {},
   "outputs": [],
   "source": [
    "client = language_v1.LanguageServiceClient()"
   ]
  },
  {
   "cell_type": "code",
   "execution_count": 25,
   "metadata": {},
   "outputs": [],
   "source": [
    "def extract_entity(text):\n",
    "    global client\n",
    "    document = language_v1.Document(content=text, type_=language_v1.Document.Type.PLAIN_TEXT)\n",
    "    return client.analyze_entities(request={'document': document})\n",
    "\n",
    "def extract_sentiment(text):\n",
    "    global client\n",
    "    document = language_v1.Document(content=text, type_=language_v1.Document.Type.PLAIN_TEXT)\n",
    "    return client.analyze_sentiment(request={'document': document})"
   ]
  },
  {
   "cell_type": "code",
   "execution_count": 54,
   "metadata": {},
   "outputs": [],
   "source": [
    "def entity_sentiment(text):\n",
    "    r1 = extract_entity(text)\n",
    "    entities_sentiment={}\n",
    "    for e in r1.entities:\n",
    "        sentiments = []\n",
    "        for mention in e.mentions:\n",
    "            sentences = re.findall(r\"([^.]*?\"+mention.text.content+\"[^.]*\\.)\",test)  \n",
    "            for s in sentences:\n",
    "                sentiment = extract_sentiment(s)\n",
    "                sentiments.append(sentiment.document_sentiment.score)\n",
    "        if len(sentiments) != 0:\n",
    "            entities_sentiment[e.name] = sum(sentiments) / len(sentiments)\n",
    "    entities_sentiment = dict(sorted(entities_sentiment.items(), key=lambda item: item[1], reverse=True))\n",
    "    print(entities_sentiment)"
   ]
  },
  {
   "cell_type": "markdown",
   "metadata": {},
   "source": [
    "# Tests"
   ]
  },
  {
   "cell_type": "code",
   "execution_count": 51,
   "metadata": {},
   "outputs": [
    {
     "name": "stdout",
     "output_type": "stream",
     "text": [
      "{'DJ Trainees': 0.800000011920929, 'Steve Stagnero': 0.6000000238418579, 'DJ Training class': 0.6000000238418579, 'recommendations': 0.6000000238418579, 'Fall': 0.26666667064030963, '1971': 0.2500000037252903, 'music': 0.24000000357627868, 'KCPR': 0.22000000327825547, 'DJ Training': 0.20000001043081284, 'combinations': 0.20000000298023224, 'policy': 0.10000000149011612, 'part': 0.10000000149011612, 'parts': 0.10000000149011612, 'content': 0.10000000149011612, 'balance': 0.10000000149011612, 'six': 0.10000000149011612, 'shift': 0.06666666766007741, 'songs': 0.05000000074505806, 'format': 0.033333333830038704, 'air': 0.033333333830038704, 'Format Sheets': 0.02500000037252903, 'few': 0.0, 'air shifts': 0.0, 'format programs': 0.0, 'sound': 0.0, 'Afternoon Delight': 0.0, 'The Comedown': 0.0, 'The Lounge': 0.0, 'The Breakfast Club': 0.0, 'music format': -0.10000000149011612, 'DJ trainees': -0.10000000149011612, 'Rock': -0.10000000149011612, 'world': -0.10000000149011612, 'Blood, Sweat & Tears': -0.10000000149011612, 'Beatles': -0.10000000149011612, 'Beach Boys': -0.10000000149011612, 'The Who': -0.10000000149011612, 'Heavy': -0.10000000149011612, 'Oldies': -0.10000000149011612, 'Andy Williams': -0.10000000149011612, 'Popular': -0.10000000149011612, 'Winter Quarter': -0.20000000298023224, '1972': -0.20000000298023224, 'one': -0.20000000298023224, 'anyone': -0.4000000059604645}\n"
     ]
    }
   ],
   "source": [
    "test = \"\"\"In the Fall of 1971, our new DJ Trainees were very interested to know just what music they could play on KCPR. Steve Stagnero, our Program Director, visited the new DJ Training class and he was asked for his recommendations. He simply answered, \"Beatles, Beach Boys and Blood, Sweat & Tears.\" So now we knew.\n",
    "\n",
    "The next thing DJ trainees had to learn was the KCPR music format. It was a fairly complicated policy that divided the broadcast day into six parts and established a different balance of musical content for each part. Even today, KCPR tries to have a consistent sound from one day to the next with regular format programs entitled The Breakfast Club, Afternoon Delight, The Comedown and The Lounge. I don't know how KCPR manages their musical format today but, back in 1971, we had Format Sheets.\n",
    "\n",
    "From hour to hour, the Format Sheets told us how many \"Popular\", \"Rock\" (not the same thing in a world with both Andy Williams and The Who), \"Oldies\" and \"Heavy\" songs to play. We drew Format Sheets for our shift and filled them out as we played the required combinations of mandatory and optional songs every hour. I do not know if anyone ever looked at them but I don't recall them sticking around very long.\n",
    "\n",
    "I only had a few air shifts after completing DJ Training in the Fall of 1971 so I only filled out a few of the Format Sheets and don't recall seeing them when we returned for the Winter Quarter in 1972. Fortunately, a few of us that were doing air shifts in the Fall of 1971 are here and hopefully they will tell us more about how KCPR managed music on the air.\"\"\"\n",
    "\n",
    "entity_sentiment(test)"
   ]
  },
  {
   "cell_type": "code",
   "execution_count": 52,
   "metadata": {},
   "outputs": [
    {
     "name": "stdout",
     "output_type": "stream",
     "text": [
      "{'trouble': 0.10000000149011612, 'radio station': 0.10000000149011612, 'student': 0.10000000149011612, 'everyone': 0.10000000149011612, 'DJ trainees': 0.10000000149011612, 'policies': 0.05000000074505806, 'project': 0.0, 'size': 0.0, 'Jim Stueck': 0.0, 'impression': 0.0, 'Polices': 0.0, 'Alan Holmes': 0.0, 'studio': 0.0, 'staff': 0.0, 'facilities': 0.0, 'transmitter': 0.0, 'KCPR': 0.0, 'ditto masters': 0.0, 'use': 0.0, 'document': 0.0, 'preparation': 0.0, 'Woody Goulart': 0.0, '69': 0.0, '1968': 0.0}\n"
     ]
    }
   ],
   "source": [
    "test = \"\"\"After reading Jim Stueck's senior project, I got the impression that these General Polices were rooted in what Alan Holmes and Jim Stueck had started in 1968-69 but the policies had to evolve to address the growing size of KCPR's staff, its longer operating hours and its expanding studio and transmitter facilities. Writing these policies down and teaching them to the DJ trainees would help everyone work together and keep the student run radio station out of trouble. However, the efficient use of ditto masters in the preparation of this document definitely reminded me of Woody Goulart.\"\"\"\n",
    "\n",
    "entity_sentiment(test)"
   ]
  },
  {
   "cell_type": "code",
   "execution_count": 55,
   "metadata": {},
   "outputs": [
    {
     "name": "stdout",
     "output_type": "stream",
     "text": [
      "{'collaborator': 0.4000000059604645, 'memories': 0.4000000059604645, 'comments': 0.4000000059604645, 'Anyone': 0.4000000059604645, 'story': 0.20000000298023224, 'Radio Hill': 0.0, 'government': 0.0, 'audio console': 0.0, 'station': 0.0, 'emergency power generators': 0.0, 'saga': 0.0, 'transmitter facilities': 0.0, 'funds': 0.0, 'programming': 0.0, 'wagon': 0.0, 'Emergency Broadcast System': 0.0, 'role': 0.0, 'friends': 0.0, 'broadcasting': 0.0, 'Eric Dausman': 0.0, 'pictures': 0.0, 'Steve Ruegnitz': 0.0, 'Chevy': 0.0, 'Dean Opperman': 0.0, 'Al Lindley': 0.0, 'Steve Witten': 0.0, 'Ron Margaretten': 0.0, '65 VW': 0.0, 'advantage': 0.0, 'situation': 0.0, '15AM': 0.0, '10': 0.0, '65': 0.0, '5': 0.0, '57': 0.0, '15': 0.0, 'transmitter site': -0.04000000059604645, 'test': -0.10000000149011612, 'Cueback Collaboration System': -0.10000000149011612, 'Mustang Daily': -0.10000000149011612, 'Cal Poly': -0.10000000149011612, '3': -0.13333333532015482, 'all': -0.15000000223517418, 'KCPR': -0.17499999701976776, 'KVEC': -0.17500000074505806, 'event': -0.20000000298023224, 'San Luis Obispo': -0.20000000298023224, 'studio equipment': -0.20000000298023224, 'safety': -0.20000000298023224, 'town': -0.20000000298023224, 'air': -0.20000000298023224, '1969': -0.20000000298023224, '1973': -0.20000000298023224, 'campus': -0.2666666756073634, 'power': -0.2666666756073634, 'KSLY': -0.30000000447034836, 'studios': -0.32499999925494194, 'flooding': -0.3333333432674408, 'Jan 18th': -0.3499999940395355, 'flood': -0.3600000083446503, 'Jan': -0.36666666467984516, '18': -0.36666666467984516, 'San Luis Creek': -0.4000000059604645, 'Marsh Streets': -0.4000000059604645, 'rain': -0.4000000059604645, 'corner': -0.4000000059604645, 'flooding downtown': -0.4000000059604645, 'grade': -0.4000000059604645, 'basement': -0.4000000059604645, 'Osos': -0.4000000059604645, 'San Luis Savings and Loan': -0.4000000059604645, 'January 18, 1973': -0.4000000059604645, 'disaster': -0.43333334227403003, 'buildings': -0.6000000238418579, 'Graphic Arts Building': -0.6000000238418579}\n"
     ]
    }
   ],
   "source": [
    "test =\"\"\"This is a test of the Cueback Collaboration System. Anyone listed as a collaborator to this story can add their memories directly to it rather than just make comments. And that is going to be necessary because, as big an event as this was, I don't remember much about it other than who else was there and what was reported in the Mustang Daily.\n",
    "\n",
    "It was January 18, 1973 and the rain has been falling heavily over San Luis Obispo. San Luis Creek had backed up which resulted in significant flooding downtown, including at the corner of Osos and Marsh Streets where KSLY had their studios below grade, in the basement of the San Luis Savings and Loan. The flood was a disaster for them. For the second time since 1969, KSLY had to evacuate its studios and take all of the studio equipment they could salvage to the safety of their transmitter site.\n",
    "\n",
    "Another transmitter site was about to play a role in the saga of the flood of 1973. KCPR maintained its transmitter facilities in KVEC's transmitter site on Radio Hill, which is on the Cal Poly campus. As the flooding got worse on campus, power going to affected buildings, including the Graphic Arts Building, was being turned off. On the morning of Jan 18th, KCPR's studios became blacked out. But not KVEC. They were the primary Emergency Broadcast System station for San Luis Obispo and the federal government had provided funds for them to install emergency power generators at their studios and at their transmitter site. So whether the power on the Cal Poly campus was shut off or not, KVEC was still able to generate their own power and stay on the air.\n",
    "\n",
    "KCPR took advantage of KVEC's situation to take our portable audio console up to the transmitter site we shared with them and resumed live programming from there. Steve Ruegnitz and Eric Dausman loaded the portable audio console in Eric's '57 Chevy wagon and hauled it up to Radio Hill where they were joined by Dean Opperman, Al Lindley, Steve Witten and Ron Margaretten. I recall dropping by in my '65 VW but didn't stay long so I hope my friends can collaborate on happened up there.\n",
    "\n",
    "According to the story in the Mustang Daily, KCPR conducted broadcasting on Radio Hill from 10:15AM to 5PM on Jan 18th. Check out the pictures of the flooding around town starting on page 3: http://digitalcommons.calpoly.edu/cgi/viewcontent.cgi?article=2942&context=studentnewspaper\"\"\"\n",
    "entity_sentiment(test)"
   ]
  },
  {
   "cell_type": "code",
   "execution_count": 56,
   "metadata": {},
   "outputs": [
    {
     "name": "stdout",
     "output_type": "stream",
     "text": [
      "{'sign': 0.0, 'kcpr-grads': 0.0, 'Yahoo Group': 0.0, 'masonite': 0.0, 'photo': 0.0, 'KCPR Alumni Group': 0.0, 'Frank Warren': 0.0, '2008': 0.0, '2014': 0.0, '1987': 0.0, 'Royal': -0.10000000149011612, 'Poly Royal': -0.10000000149011612, 'Poly': -0.10000000149011612, 'Jon Jaeger': -0.10000000397364299, 'graduation': -0.20000000298023224, 'campus official': -0.20000000298023224, 'Scott Larsen': -0.24000000357627868, 'roof': -0.2500000074505806, 'arms': -0.4000000059604645, 'times': -0.699999988079071}\n"
     ]
    }
   ],
   "source": [
    "test = \"\"\"In 2008, Scott Larsen wrote in the kcpr-grads Yahoo Group: \"I made that sign out of masonite, painted it black and prayed it would survive the weekend... funny that it's still there. After the first Poly Royal I remember taking it down (just laying it on the roof), then it went back up for graduation and stayed a while, then I think for the next poly royal some campus official finally noticed it and I promised it was just for Poly Royal and we'd take it down after the weekend... up down up down a few times then it just stuck I guess.\n",
    "\n",
    "Jon Jaeger originally posted this photo on the KCPR Alumni Group back in 2014. Frank Warren remembers the sign went up for Poly Royal in 1987. That's station manger Scott Larsen with his arms folded. Jon is sitting on the roof.\"\"\"\n",
    "\n",
    "entity_sentiment(test)"
   ]
  },
  {
   "cell_type": "markdown",
   "metadata": {},
   "source": [
    "# Tests II"
   ]
  },
  {
   "cell_type": "code",
   "execution_count": 57,
   "metadata": {},
   "outputs": [],
   "source": [
    "import json"
   ]
  },
  {
   "cell_type": "code",
   "execution_count": 62,
   "metadata": {},
   "outputs": [],
   "source": [
    "f = open('./data/notesdump.json')\n",
    "data = json.load(f)\n",
    "tests = []\n",
    "for test in data['value']:\n",
    "    try:\n",
    "        tests.append(test['text'])\n",
    "    except:\n",
    "        pass\n",
    "sample = tests[:10]"
   ]
  },
  {
   "cell_type": "code",
   "execution_count": 65,
   "metadata": {},
   "outputs": [
    {
     "name": "stdout",
     "output_type": "stream",
     "text": [
      "Mr. Diresta's name was mentioned in the Birmingham Times in an article about The Birmingham Medical Center.  He apparently donated an undisclosed amount of money to assist with the new surgical wing.  He prefers to give to healthcare related organizations.\n",
      "{'name': 0.0, 'article': 0.0, 'Birmingham Times': 0.0, 'The Birmingham Medical Center': 0.0, 'organizations': 0.0, 'Diresta': -0.05000000074505806, 'amount': -0.30000001192092896, 'money': -0.30000001192092896, 'wing': -0.30000001192092896}\n",
      "\n",
      "\n",
      "From Atlanta to Birmingham for school.  His girlfriend (now wife) was already living in Birmingham at the time.\n",
      "{'Atlanta': 0.20000000298023224, 'school': 0.20000000298023224, 'Birmingham': 0.05000000074505806, 'girlfriend': -0.10000000149011612}\n",
      "\n",
      "\n",
      "The dinner that was held for the Medical School was partially sponsored by Mr. Regis Young, Christopher's father.  Both expressed interest in attending all alumni functions.  Send all correspondence to home address.\n",
      "{'alumni functions': 0.5, 'interest': 0.5, 'Regis Young': 0.0, 'Christopher': 0.0, 'correspondence': -0.10000000149011612, 'home address': -0.10000000149011612, 'dinner': -0.20000000298023224, 'Medical School': -0.20000000298023224}\n",
      "\n",
      "\n",
      "I went to Culver Memorial to visit Gretchen Smith's neice and saw Dr. Young's remote office there.  Stopped in to say hi and remind him about the ground breaking scheduled for next week.  He said he would attend and thanked me for stopping in.\n",
      "{'Culver Memorial': 0.0, 'Young': 0.0, 'neice': 0.0, 'office': 0.0, 'Gretchen Smith': 0.0, 'ground': 0.0}\n",
      "\n",
      "\n",
      "9/22/99 11:58:43 AM Supervisor\n",
      "Dr. Young to wed Mary Spangler in September 1992.\n",
      "\n",
      "{'Supervisor': 0.0, 'Dr.': 0.0, 'Mary Spangler': 0.0, '9/22/99 11:58:43 AM': 0.0, 'September 1992': 0.0, '43': 0.0, '1992': 0.0, '22': 0.0, '99': 0.0, '9': 0.0, '11': 0.0, '58': 0.0}\n",
      "\n",
      "\n",
      "After graduation at UM, she worked as a research assistant.  She travels to Japan every year for an advisory board meeting as per research at UM.\n",
      "{'graduation': 0.10000000149011612, 'research assistant': 0.10000000149011612, 'UM': 0.05000000074505806, 'research': 0.05000000074505806, 'board meeting': 0.0, 'Japan': 0.0}\n",
      "\n",
      "\n",
      "Porter is the owner of the National Golf Warehouse, a wholesaler of all golf accessories.  In addition, he holds part ownership in various golf stores throughout the United States.  He started the company in 1980 when an accident left him unable to play golf for more than two years.  Graduate of U of Colorado and U of CA where he received his MBA. Porter and Renee have been symphony ticket holders since 1990.\n",
      "{'National Golf Warehouse': 0.10000000149011612, 'golf accessories': 0.10000000149011612, 'part ownership': 0.10000000149011612, 'addition': 0.10000000149011612, 'golf stores': 0.10000000149011612, 'United States': 0.10000000149011612, 'Porter': 0.06666666766007741, 'golf': 0.033333333830038704, 'U': 0.0, 'symphony ticket holders': 0.0, 'Renee': 0.0, '1990': 0.0, 'company': -0.10000000149011612, 'accident': -0.10000000149011612, 'MBA': -0.10000000149011612, 'CA': -0.10000000149011612, 'Graduate': -0.10000000149011612, 'Colorado': -0.10000000149011612, '1980': -0.10000000149011612, 'two': -0.10000000149011612}\n",
      "\n",
      "\n",
      "Article in the San Diego Times references top 100 business.  National Golf Warehouse is listed as 59th.\n",
      "{'Article': 0.0, 'business': 0.0, 'San Diego Times': 0.0, '100': 0.0, 'National Golf Warehouse': -0.10000000149011612, '59': -0.10000000149011612}\n",
      "\n",
      "\n",
      "Dr. Hernandez spoke at the North American Pedicatric Society in San Francisco.  Fifteen minutes of his speech was devoted to medical research and his effort to make donations of time or money for hospitals and charitiable societies to continue the research trend.  He will be in town in two months and will speak at The Children's Hospital.\n",
      "{'North American': 0.0, 'Pedicatric Society': 0.0, 'San Francisco': 0.0, 'hospitals': 0.0, 'research': 0.0, 'societies': 0.0, 'effort': 0.0, 'speech': 0.0, 'money': 0.0, 'donations': 0.0, 'town': 0.0, \"The Children's Hospital\": 0.0, 'research trend': 0.0, 'Fifteen': 0.0, 'two': 0.0, 'Hernandez': -0.05000000074505806}\n",
      "\n",
      "\n",
      "Dr. Hernandez plans to leave the pharmaceutical company to open a practice with his former colleague and friend.  There will be an opening day that he will offer free pediatric exams to certain areas of town.\n",
      "{'exams': 0.10000000149011612, 'areas': 0.10000000149011612, 'town': 0.10000000149011612, 'Hernandez': -0.4000000059604645, 'company': -0.4000000059604645, 'practice': -0.4000000059604645, 'colleague': -0.4000000059604645, 'friend': -0.4000000059604645}\n",
      "\n",
      "\n"
     ]
    }
   ],
   "source": [
    "for test in sample:\n",
    "    print(test)\n",
    "    entity_sentiment(test)\n",
    "    print('\\n')"
   ]
  },
  {
   "cell_type": "markdown",
   "metadata": {},
   "source": [
    "# Test III"
   ]
  },
  {
   "cell_type": "code",
   "execution_count": 66,
   "metadata": {},
   "outputs": [],
   "source": [
    "import pandas as pd"
   ]
  },
  {
   "cell_type": "code",
   "execution_count": 67,
   "metadata": {},
   "outputs": [],
   "source": [
    "df = pd.read_csv('./data/archive/data_science_for_fundraising_contact_reports.csv')"
   ]
  },
  {
   "cell_type": "code",
   "execution_count": 74,
   "metadata": {},
   "outputs": [],
   "source": [
    "df_filtered = df[~(df['Summary']=='not interested in the University')]\n",
    "sample = df_filtered.head(50)"
   ]
  },
  {
   "cell_type": "code",
   "execution_count": 75,
   "metadata": {
    "scrolled": false
   },
   "outputs": [
    {
     "name": "stdout",
     "output_type": "stream",
     "text": [
      "Sent Dominic an email asking for an update if he would like to move ahead with a gift to establish the full Graduate Student Honors Program based on how pleased he was with the intern program\n",
      "{}\n",
      "\n",
      "\n",
      "Emailed Dr. Jonathan Winters, who have ties to Dr. Bendrich, regarding a gift to fund a Student Honors Program based on his verbal interest\n",
      "{'Jonathan Winters': 0.0, 'Bendrich': 0.0, 'ties': 0.0}\n",
      "\n",
      "\n",
      "Sent Belinda an upgrade brochure, appeal letter and envelope, as well as a handwritten note asking for her to become a leadership annual fund donor with a gift of $1,000\n",
      "{}\n",
      "\n",
      "\n",
      "$50k to extend Kendrick Memorial Undergraduate Scholarship and create Guiles Memorial Student Scholarship based on board meeting and verbal commtiment\n",
      "{}\n",
      "\n",
      "\n",
      "Sent upgrade brochure asking Jeffrey and Julie to become a leadership annual fund donor by making a gift of $1,000 or more, and said I'd be happy to send information about our Leadership Society\n",
      "{}\n",
      "\n",
      "\n",
      "Sent Marsha an leadership annual fund upgrade brochure with a handwritten note asking her to become a leadership annual fund donor with a gift of $5,000\n",
      "{}\n",
      "\n",
      "\n",
      "Sent upgrade brochure to Kenneth thanking them for their support since 2000 and asking them to become leadership annual fund donors with a gift of $2,500\n",
      "{}\n",
      "\n",
      "\n",
      "Roger, Julie and Amy met Jennifer for a cultivation lunch in Palo Alto. Jennifer shared that she and Jack would like to try to get to the Ambassadors Society level to support research lab.\n",
      "{'level': 0.30000001192092896, 'Jack': 0.30000001192092896, 'research lab': 0.30000001192092896, 'Ambassadors Society': 0.30000001192092896, 'Jennifer': 0.2500000074505806, 'Roger': 0.20000000298023224, 'Julie': 0.20000000298023224, 'Amy': 0.20000000298023224, 'cultivation lunch': 0.20000000298023224, 'Palo Alto': 0.20000000298023224}\n",
      "\n",
      "\n",
      "Not available during next trip to Seattle. Declined last meeting. Will try again in Winter.\n",
      "{'meeting': 0.0, 'Winter': -0.30000001192092896, 'trip': -0.699999988079071, 'Seattle': -0.699999988079071}\n",
      "\n",
      "\n",
      "Emailed about continued funding or guidance regarding facilities project based on lab meeting\n",
      "{}\n",
      "\n",
      "\n",
      "Laurie is not able to meet now (too busy)\n",
      "{}\n",
      "\n",
      "\n",
      "Left message for meeting to gather feedback about Dayton event and negative concerns about upcoming initiative\n",
      "{}\n",
      "\n",
      "\n",
      "Bill would like to become more involved with University Center, first with a blog post and he will add the Institute to annual charities to support\n",
      "{}\n",
      "\n",
      "\n",
      "Emailed Yoshi to inquire if he would like to be featured in the annual report\n",
      "{}\n",
      "\n",
      "\n",
      "Wendy spoke with Troy Rigamonti and he identified Ingrid as a major gift prospect. He has been in touch with her due to her work with United Way in San Francisco and has expressed interest in getting involved in the Center\n",
      "{'Troy Rigamonti': 0.6000000238418579, 'Wendy': 0.6000000238418579, 'gift prospect': 0.6000000238418579, 'Ingrid': 0.6000000238418579}\n",
      "\n",
      "\n",
      "Agreed to review giving opportunities\n",
      "{}\n",
      "\n",
      "\n",
      "Requested class notation for new consulting job\n",
      "{}\n",
      "\n",
      "\n",
      "Not able to attend Fall Football games this season\n",
      "{}\n",
      "\n",
      "\n",
      "Deborah to host John for homecoming game. Lunch meeting pending.\n",
      "{'Deborah': 0.30000001192092896, 'John': 0.30000001192092896, 'homecoming game': 0.30000001192092896, 'Lunch meeting': -0.30000001192092896}\n",
      "\n",
      "\n",
      "Ken's no longer wishes to support the university. Unhappy with recently handling of gift recognition ceremony cancellation.\n",
      "{'gift recognition ceremony cancellation': -0.20000000298023224, 'Ken': -0.800000011920929, 'university': -0.800000011920929}\n",
      "\n",
      "\n",
      "Email to thank them for their gift last year, with mention that the gift was made this week last year, and ask for them to continue to support us this year with a gift\n",
      "{}\n",
      "\n",
      "\n",
      "Polly us not able to donate right now and is involved with many other organizations\n",
      "{}\n",
      "\n",
      "\n",
      "Emailed happy anniversary card to Izzy to remind him that he supported student scholarships a year ago this week\n",
      "{}\n",
      "\n",
      "\n",
      "Follow-up email after not being able to connect while I was in Florida, and mentioned he must decline two upcoming speaking engagements in Miami\n",
      "{}\n",
      "\n",
      "\n",
      "Beverly responded to my email to let me know she and Bob regretably did not enjoy the University Science Fellows meeting\n",
      "{}\n",
      "\n",
      "\n",
      "Sent introductory postcard thanking Eli for his continued support and hoping to meet for coffee soon\n",
      "{}\n",
      "\n",
      "\n",
      "Sent Mary an introductory postcard thanking her for continued support, and offering to grab coffee with her soon to learn more about her interests in support the university.\n",
      "{'Mary': 0.8999999761581421, 'postcard': 0.8999999761581421, 'support': 0.8999999761581421, 'coffee': 0.8999999761581421, 'interests': 0.8999999761581421, 'university': 0.8999999761581421}\n",
      "\n",
      "\n",
      "Email response from Yani; unfortunately does not want to meet\n",
      "{}\n",
      "\n",
      "\n",
      "Gift Renewal Discussion--agreed to split gift btwn College and University Student Scholarships\n",
      "{}\n",
      "\n",
      "\n",
      "Adam agreed to a $5k Junior Alumni Association gift\n",
      "{}\n",
      "\n",
      "\n",
      "We met for lunch at Bigelow's. Mitch agreed to join the Council.\n",
      "{'lunch': 0.10000000149011612, 'Bigelow': 0.10000000149011612, 'Council': 0.0, 'Mitch': 0.0}\n",
      "\n",
      "\n",
      "Gary unfortunately requested to be removed from mailing list; will not support in the future\n",
      "{}\n",
      "\n",
      "\n",
      "not a gift prospect\n",
      "{}\n",
      "\n",
      "\n",
      "Met with Sam to discuss interest in the Council. Adam would like to participate.\n",
      "{'Adam': 0.30000001192092896, 'Sam': 0.20000000298023224, 'Council': 0.20000000298023224, 'interest': 0.20000000298023224}\n",
      "\n",
      "\n",
      "Paul is pleased with the direction of the Council and I mentioned our next meeting would most likely be in Septebmer\n",
      "{}\n",
      "\n",
      "\n",
      "Mike expressed interest in supporting the spring event\n",
      "{}\n",
      "\n",
      "\n",
      "Met with Adam to discuss interest in the Council. Adam would like to participate.\n",
      "{'Adam': 0.2500000074505806, 'Council': 0.20000000298023224, 'interest': 0.20000000298023224}\n",
      "\n",
      "\n",
      "Barbara is not a prospect\n",
      "{}\n",
      "\n",
      "\n",
      "Andrew has decided not to support program\n",
      "{}\n",
      "\n",
      "\n",
      "Brandon is not a MG prospect\n",
      "{}\n",
      "\n",
      "\n",
      "Not a major gift prospect at this time\n",
      "{}\n",
      "\n",
      "\n",
      "Not able to meet during this trip\n",
      "{}\n",
      "\n",
      "\n",
      "Not able to meet during this trip\n",
      "{}\n",
      "\n",
      "\n",
      "Invited Bob Sanders to Student Designers Forum, but could not attend. Also declined lecture invitation next month.\n",
      "{'Bob Sanders': -0.30000001192092896, 'Student Designers Forum': -0.30000001192092896, 'lecture invitation': -0.699999988079071}\n",
      "\n",
      "\n",
      "Agreed to visit campus again to meet to discuss ideas for support\n",
      "{}\n",
      "\n",
      "\n",
      "Spoke to Buffy, wife of Kevin. Buffy's daughter Maria loves campus and I suggested we have lunch to discuss study abroad program and support.\n",
      "{'Maria': 0.800000011920929, 'campus': 0.800000011920929, 'study': 0.800000011920929, 'program': 0.800000011920929, 'support': 0.800000011920929, 'lunch': 0.800000011920929, 'Buffy': 0.3200000047683716, 'Kevin': 0.0}\n",
      "\n",
      "\n",
      "John invited me out to see his factory. John likes the new student mentorship program.\n",
      "{'student mentorship program': 0.800000011920929, 'John': 0.550000011920929, 'factory': 0.30000001192092896}\n",
      "\n",
      "\n",
      "Pappy does not want to meet during this trip.\n",
      "{'Pappy': -0.800000011920929, 'trip': -0.800000011920929}\n",
      "\n",
      "\n",
      "Carol asked for me to resend email and she wants to schedule a meeting in the next couple of weeks.\n",
      "{'Carol': -0.4000000059604645, 'email': -0.4000000059604645, 'meeting': -0.4000000059604645}\n",
      "\n",
      "\n",
      "Spoke with Paula, following up on initial email. Paula asked for me to resend email and she wants to schedule a meeting in the next couple of weeks.\n",
      "{'Spoke': -0.10000000149011612, 'Paula': -0.2500000037252903, 'email': -0.2500000037252903, 'meeting': -0.4000000059604645}\n",
      "\n",
      "\n"
     ]
    }
   ],
   "source": [
    "for _, row in sample.iterrows():\n",
    "    test = row['Summary']\n",
    "    print(test)\n",
    "    entity_sentiment(test)\n",
    "    print('\\n')"
   ]
  },
  {
   "cell_type": "code",
   "execution_count": null,
   "metadata": {},
   "outputs": [],
   "source": []
  }
 ],
 "metadata": {
  "kernelspec": {
   "display_name": "Python 3",
   "language": "python",
   "name": "python3"
  },
  "language_info": {
   "codemirror_mode": {
    "name": "ipython",
    "version": 3
   },
   "file_extension": ".py",
   "mimetype": "text/x-python",
   "name": "python",
   "nbconvert_exporter": "python",
   "pygments_lexer": "ipython3",
   "version": "3.8.5"
  }
 },
 "nbformat": 4,
 "nbformat_minor": 4
}
