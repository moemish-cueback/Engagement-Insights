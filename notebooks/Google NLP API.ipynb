{
 "cells": [
  {
   "cell_type": "code",
   "execution_count": 24,
   "metadata": {},
   "outputs": [],
   "source": [
    "from google.cloud import language_v1\n",
    "import os\n",
    "import re"
   ]
  },
  {
   "cell_type": "code",
   "execution_count": 25,
   "metadata": {},
   "outputs": [],
   "source": [
    "os.environ[\"GOOGLE_APPLICATION_CREDENTIALS\"] = './cueback-app-e91f3f8c0155.json'"
   ]
  },
  {
   "cell_type": "code",
   "execution_count": 26,
   "metadata": {},
   "outputs": [],
   "source": [
    "client = language_v1.LanguageServiceClient()"
   ]
  },
  {
   "cell_type": "code",
   "execution_count": 27,
   "metadata": {},
   "outputs": [],
   "source": [
    "def extract_entity(text):\n",
    "    global client\n",
    "    document = language_v1.Document(content=text, type_=language_v1.Document.Type.PLAIN_TEXT)\n",
    "    return client.analyze_entities(request={'document': document})\n",
    "\n",
    "def extract_sentiment(text):\n",
    "    global client\n",
    "    document = language_v1.Document(content=text, type_=language_v1.Document.Type.PLAIN_TEXT)\n",
    "    return client.analyze_sentiment(request={'document': document})"
   ]
  },
  {
   "cell_type": "code",
   "execution_count": 64,
   "metadata": {},
   "outputs": [],
   "source": [
    "def entity_sentiment(text):\n",
    "    r1 = extract_entity(text)\n",
    "    entities_sentiment={}\n",
    "    for e in r1.entities:\n",
    "        if str(e.type_) in ['Type.PERSON', 'Type.ORGANIZATION', 'Type.LOCATION', 'Type.DATE']:\n",
    "            sentiments = []\n",
    "            for mention in e.mentions:\n",
    "                try:\n",
    "                    sentences = re.findall(r\"([^.]*?\"+mention.text.content+\"[^.]*\\.)\",text)  \n",
    "                    for s in sentences:\n",
    "                        sentiment = extract_sentiment(s)\n",
    "                        sentiments.append(sentiment.document_sentiment.score)\n",
    "                except:\n",
    "                    pass\n",
    "            if len(sentiments) != 0:\n",
    "                entities_sentiment[e.name] = sum(sentiments) / len(sentiments)\n",
    "    entities_sentiment = dict(sorted(entities_sentiment.items(), key=lambda item: item[1], reverse=True))\n",
    "    print(entities_sentiment)"
   ]
  },
  {
   "cell_type": "markdown",
   "metadata": {},
   "source": [
    "# Tests"
   ]
  },
  {
   "cell_type": "code",
   "execution_count": 57,
   "metadata": {},
   "outputs": [
    {
     "name": "stdout",
     "output_type": "stream",
     "text": [
      "{'DJ Trainees': 0.800000011920929, 'Steve Stagnero': 0.6000000238418579, '1971': 0.2500000037252903, 'KCPR': 0.22000000327825547, 'parts': 0.10000000149011612, 'Format Sheets': 0.02500000037252903, 'few': 0.0, 'The Lounge': 0.0, 'DJ trainees': -0.10000000149011612, 'world': -0.10000000149011612, 'Blood, Sweat & Tears': -0.10000000149011612, 'Beach Boys': -0.10000000149011612, 'The Who': -0.10000000149011612, 'Andy Williams': -0.10000000149011612, 'Winter Quarter': -0.20000000298023224, '1972': -0.20000000298023224, 'anyone': -0.4000000059604645}\n"
     ]
    }
   ],
   "source": [
    "test = \"\"\"In the Fall of 1971, our new DJ Trainees were very interested to know just what music they could play on KCPR. Steve Stagnero, our Program Director, visited the new DJ Training class and he was asked for his recommendations. He simply answered, \"Beatles, Beach Boys and Blood, Sweat & Tears.\" So now we knew.\n",
    "\n",
    "The next thing DJ trainees had to learn was the KCPR music format. It was a fairly complicated policy that divided the broadcast day into six parts and established a different balance of musical content for each part. Even today, KCPR tries to have a consistent sound from one day to the next with regular format programs entitled The Breakfast Club, Afternoon Delight, The Comedown and The Lounge. I don't know how KCPR manages their musical format today but, back in 1971, we had Format Sheets.\n",
    "\n",
    "From hour to hour, the Format Sheets told us how many \"Popular\", \"Rock\" (not the same thing in a world with both Andy Williams and The Who), \"Oldies\" and \"Heavy\" songs to play. We drew Format Sheets for our shift and filled them out as we played the required combinations of mandatory and optional songs every hour. I do not know if anyone ever looked at them but I don't recall them sticking around very long.\n",
    "\n",
    "I only had a few air shifts after completing DJ Training in the Fall of 1971 so I only filled out a few of the Format Sheets and don't recall seeing them when we returned for the Winter Quarter in 1972. Fortunately, a few of us that were doing air shifts in the Fall of 1971 are here and hopefully they will tell us more about how KCPR managed music on the air.\"\"\"\n",
    "\n",
    "entity_sentiment(test)"
   ]
  },
  {
   "cell_type": "code",
   "execution_count": 58,
   "metadata": {},
   "outputs": [
    {
     "name": "stdout",
     "output_type": "stream",
     "text": [
      "{'radio station': 0.10000000149011612, 'student': 0.10000000149011612, 'everyone': 0.10000000149011612, 'DJ trainees': 0.10000000149011612, 'Jim Stueck': 0.0, 'Alan Holmes': 0.0, 'studio': 0.0, 'staff': 0.0, 'facilities': 0.0, 'KCPR': 0.0, 'Woody Goulart': 0.0}\n"
     ]
    }
   ],
   "source": [
    "test = \"\"\"After reading Jim Stueck's senior project, I got the impression that these General Polices were rooted in what Alan Holmes and Jim Stueck had started in 1968-69 but the policies had to evolve to address the growing size of KCPR's staff, its longer operating hours and its expanding studio and transmitter facilities. Writing these policies down and teaching them to the DJ trainees would help everyone work together and keep the student run radio station out of trouble. However, the efficient use of ditto masters in the preparation of this document definitely reminded me of Woody Goulart.\"\"\"\n",
    "\n",
    "entity_sentiment(test)"
   ]
  },
  {
   "cell_type": "code",
   "execution_count": 59,
   "metadata": {},
   "outputs": [
    {
     "name": "stdout",
     "output_type": "stream",
     "text": [
      "{'collaborator': 0.4000000059604645, 'Anyone': 0.4000000059604645, 'Radio Hill': 0.0, 'government': 0.0, 'station': 0.0, 'transmitter facilities': 0.0, 'Emergency Broadcast System': 0.0, 'friends': 0.0, 'Eric Dausman': 0.0, 'Steve Ruegnitz': 0.0, 'Chevy': 0.0, 'Dean Opperman': 0.0, 'Al Lindley': 0.0, 'Steve Witten': 0.0, 'Ron Margaretten': 0.0, 'transmitter site': -0.04000000059604645, 'Mustang Daily': -0.10000000149011612, 'KCPR': -0.17499999701976776, 'KVEC': -0.17500000074505806, 'San Luis Obispo': -0.20000000298023224, 'town': -0.20000000298023224, '1969': -0.20000000298023224, '1973': -0.20000000298023224, 'campus': -0.2666666756073634, 'KSLY': -0.30000000447034836, 'studios': -0.32499999925494194, 'Jan 18th': -0.3499999940395355, 'Jan': -0.36666666467984516, 'San Luis Creek': -0.4000000059604645, 'Marsh Streets': -0.4000000059604645, 'corner': -0.4000000059604645, 'flooding downtown': -0.4000000059604645, 'basement': -0.4000000059604645, 'January 18, 1973': -0.4000000059604645, 'buildings': -0.6000000238418579, 'Graphic Arts Building': -0.6000000238418579}\n"
     ]
    }
   ],
   "source": [
    "test =\"\"\"This is a test of the Cueback Collaboration System. Anyone listed as a collaborator to this story can add their memories directly to it rather than just make comments. And that is going to be necessary because, as big an event as this was, I don't remember much about it other than who else was there and what was reported in the Mustang Daily.\n",
    "\n",
    "It was January 18, 1973 and the rain has been falling heavily over San Luis Obispo. San Luis Creek had backed up which resulted in significant flooding downtown, including at the corner of Osos and Marsh Streets where KSLY had their studios below grade, in the basement of the San Luis Savings and Loan. The flood was a disaster for them. For the second time since 1969, KSLY had to evacuate its studios and take all of the studio equipment they could salvage to the safety of their transmitter site.\n",
    "\n",
    "Another transmitter site was about to play a role in the saga of the flood of 1973. KCPR maintained its transmitter facilities in KVEC's transmitter site on Radio Hill, which is on the Cal Poly campus. As the flooding got worse on campus, power going to affected buildings, including the Graphic Arts Building, was being turned off. On the morning of Jan 18th, KCPR's studios became blacked out. But not KVEC. They were the primary Emergency Broadcast System station for San Luis Obispo and the federal government had provided funds for them to install emergency power generators at their studios and at their transmitter site. So whether the power on the Cal Poly campus was shut off or not, KVEC was still able to generate their own power and stay on the air.\n",
    "\n",
    "KCPR took advantage of KVEC's situation to take our portable audio console up to the transmitter site we shared with them and resumed live programming from there. Steve Ruegnitz and Eric Dausman loaded the portable audio console in Eric's '57 Chevy wagon and hauled it up to Radio Hill where they were joined by Dean Opperman, Al Lindley, Steve Witten and Ron Margaretten. I recall dropping by in my '65 VW but didn't stay long so I hope my friends can collaborate on happened up there.\n",
    "\n",
    "According to the story in the Mustang Daily, KCPR conducted broadcasting on Radio Hill from 10:15AM to 5PM on Jan 18th. Check out the pictures of the flooding around town starting on page 3: http://digitalcommons.calpoly.edu/cgi/viewcontent.cgi?article=2942&context=studentnewspaper\"\"\"\n",
    "entity_sentiment(test)"
   ]
  },
  {
   "cell_type": "code",
   "execution_count": 60,
   "metadata": {},
   "outputs": [
    {
     "name": "stdout",
     "output_type": "stream",
     "text": [
      "{'Yahoo Group': 0.0, 'KCPR Alumni Group': 0.0, 'Frank Warren': 0.0, '2008': 0.0, '2014': 0.0, '1987': 0.0, 'Royal': -0.10000000149011612, 'Poly Royal': -0.10000000149011612, 'Jon Jaeger': -0.10000000397364299, 'campus official': -0.20000000298023224, 'Scott Larsen': -0.24000000357627868}\n"
     ]
    }
   ],
   "source": [
    "test = \"\"\"In 2008, Scott Larsen wrote in the kcpr-grads Yahoo Group: \"I made that sign out of masonite, painted it black and prayed it would survive the weekend... funny that it's still there. After the first Poly Royal I remember taking it down (just laying it on the roof), then it went back up for graduation and stayed a while, then I think for the next poly royal some campus official finally noticed it and I promised it was just for Poly Royal and we'd take it down after the weekend... up down up down a few times then it just stuck I guess.\n",
    "\n",
    "Jon Jaeger originally posted this photo on the KCPR Alumni Group back in 2014. Frank Warren remembers the sign went up for Poly Royal in 1987. That's station manger Scott Larsen with his arms folded. Jon is sitting on the roof.\"\"\"\n",
    "\n",
    "entity_sentiment(test)"
   ]
  },
  {
   "cell_type": "markdown",
   "metadata": {},
   "source": [
    "# Tests II"
   ]
  },
  {
   "cell_type": "code",
   "execution_count": 61,
   "metadata": {},
   "outputs": [],
   "source": [
    "import json"
   ]
  },
  {
   "cell_type": "code",
   "execution_count": 62,
   "metadata": {},
   "outputs": [],
   "source": [
    "f = open('./data/notesdump.json')\n",
    "data = json.load(f)\n",
    "tests = []\n",
    "for test in data['value']:\n",
    "    try:\n",
    "        tests.append(test['text'])\n",
    "    except:\n",
    "        pass\n",
    "sample = tests[:10]"
   ]
  },
  {
   "cell_type": "code",
   "execution_count": 63,
   "metadata": {},
   "outputs": [
    {
     "name": "stdout",
     "output_type": "stream",
     "text": [
      "Mr. Diresta's name was mentioned in the Birmingham Times in an article about The Birmingham Medical Center.  He apparently donated an undisclosed amount of money to assist with the new surgical wing.  He prefers to give to healthcare related organizations.\n",
      "{'Birmingham Times': 0.0, 'The Birmingham Medical Center': 0.0, 'organizations': 0.0, 'Diresta': -0.05000000074505806}\n",
      "\n",
      "\n",
      "From Atlanta to Birmingham for school.  His girlfriend (now wife) was already living in Birmingham at the time.\n",
      "{'Atlanta': 0.20000000298023224, 'school': 0.20000000298023224, 'Birmingham': 0.05000000074505806, 'girlfriend': -0.10000000149011612}\n",
      "\n",
      "\n",
      "The dinner that was held for the Medical School was partially sponsored by Mr. Regis Young, Christopher's father.  Both expressed interest in attending all alumni functions.  Send all correspondence to home address.\n",
      "{'Regis Young': 0.0, 'Christopher': 0.0, 'Medical School': -0.20000000298023224}\n",
      "\n",
      "\n",
      "I went to Culver Memorial to visit Gretchen Smith's neice and saw Dr. Young's remote office there.  Stopped in to say hi and remind him about the ground breaking scheduled for next week.  He said he would attend and thanked me for stopping in.\n",
      "{'Culver Memorial': 0.0, 'Young': 0.0, 'Gretchen Smith': 0.0}\n",
      "\n",
      "\n",
      "9/22/99 11:58:43 AM Supervisor\n",
      "Dr. Young to wed Mary Spangler in September 1992.\n",
      "\n",
      "{'Supervisor': 0.0, 'Dr.': 0.0, 'Mary Spangler': 0.0, '9/22/99 11:58:43 AM': 0.0, 'September 1992': 0.0}\n",
      "\n",
      "\n",
      "After graduation at UM, she worked as a research assistant.  She travels to Japan every year for an advisory board meeting as per research at UM.\n",
      "{'research assistant': 0.10000000149011612, 'UM': 0.05000000074505806, 'Japan': 0.0}\n",
      "\n",
      "\n",
      "Porter is the owner of the National Golf Warehouse, a wholesaler of all golf accessories.  In addition, he holds part ownership in various golf stores throughout the United States.  He started the company in 1980 when an accident left him unable to play golf for more than two years.  Graduate of U of Colorado and U of CA where he received his MBA. Porter and Renee have been symphony ticket holders since 1990.\n",
      "{'National Golf Warehouse': 0.10000000149011612, 'golf stores': 0.10000000149011612, 'United States': 0.10000000149011612, 'Porter': 0.06666666766007741, 'symphony ticket holders': 0.0, 'Renee': 0.0, '1990': 0.0, 'company': -0.10000000149011612, 'CA': -0.10000000149011612, 'Colorado': -0.10000000149011612, '1980': -0.10000000149011612}\n",
      "\n",
      "\n",
      "Article in the San Diego Times references top 100 business.  National Golf Warehouse is listed as 59th.\n",
      "{'San Diego Times': 0.0, 'National Golf Warehouse': -0.10000000149011612}\n",
      "\n",
      "\n",
      "Dr. Hernandez spoke at the North American Pedicatric Society in San Francisco.  Fifteen minutes of his speech was devoted to medical research and his effort to make donations of time or money for hospitals and charitiable societies to continue the research trend.  He will be in town in two months and will speak at The Children's Hospital.\n",
      "{'North American': 0.0, 'Pedicatric Society': 0.0, 'San Francisco': 0.0, 'hospitals': 0.0, 'town': 0.0, \"The Children's Hospital\": 0.0, 'Hernandez': -0.05000000074505806}\n",
      "\n",
      "\n",
      "Dr. Hernandez plans to leave the pharmaceutical company to open a practice with his former colleague and friend.  There will be an opening day that he will offer free pediatric exams to certain areas of town.\n",
      "{'areas': 0.10000000149011612, 'town': 0.10000000149011612, 'Hernandez': -0.4000000059604645, 'company': -0.4000000059604645, 'colleague': -0.4000000059604645, 'friend': -0.4000000059604645}\n",
      "\n",
      "\n"
     ]
    }
   ],
   "source": [
    "for test in sample:\n",
    "    print(test)\n",
    "    entity_sentiment(test)\n",
    "    print('\\n')"
   ]
  },
  {
   "cell_type": "markdown",
   "metadata": {},
   "source": [
    "# Test III"
   ]
  },
  {
   "cell_type": "code",
   "execution_count": 13,
   "metadata": {},
   "outputs": [],
   "source": [
    "import pandas as pd"
   ]
  },
  {
   "cell_type": "code",
   "execution_count": 14,
   "metadata": {},
   "outputs": [],
   "source": [
    "df = pd.read_csv('./data/archive/data_science_for_fundraising_contact_reports.csv')"
   ]
  },
  {
   "cell_type": "code",
   "execution_count": 15,
   "metadata": {},
   "outputs": [],
   "source": [
    "df_filtered = df[~(df['Summary']=='not interested in the University')]\n",
    "sample = df_filtered.head(50)"
   ]
  },
  {
   "cell_type": "code",
   "execution_count": 16,
   "metadata": {
    "scrolled": false
   },
   "outputs": [
    {
     "name": "stdout",
     "output_type": "stream",
     "text": [
      "Sent Dominic an email asking for an update if he would like to move ahead with a gift to establish the full Graduate Student Honors Program based on how pleased he was with the intern program\n",
      "{}\n",
      "\n",
      "\n",
      "Emailed Dr. Jonathan Winters, who have ties to Dr. Bendrich, regarding a gift to fund a Student Honors Program based on his verbal interest\n",
      "{'Jonathan Winters': 0.0, 'Bendrich': 0.0, 'ties': 0.0}\n",
      "\n",
      "\n",
      "Sent Belinda an upgrade brochure, appeal letter and envelope, as well as a handwritten note asking for her to become a leadership annual fund donor with a gift of $1,000\n",
      "{}\n",
      "\n",
      "\n",
      "$50k to extend Kendrick Memorial Undergraduate Scholarship and create Guiles Memorial Student Scholarship based on board meeting and verbal commtiment\n",
      "{}\n",
      "\n",
      "\n",
      "Sent upgrade brochure asking Jeffrey and Julie to become a leadership annual fund donor by making a gift of $1,000 or more, and said I'd be happy to send information about our Leadership Society\n",
      "{}\n",
      "\n",
      "\n",
      "Sent Marsha an leadership annual fund upgrade brochure with a handwritten note asking her to become a leadership annual fund donor with a gift of $5,000\n",
      "{}\n",
      "\n",
      "\n",
      "Sent upgrade brochure to Kenneth thanking them for their support since 2000 and asking them to become leadership annual fund donors with a gift of $2,500\n",
      "{}\n",
      "\n",
      "\n",
      "Roger, Julie and Amy met Jennifer for a cultivation lunch in Palo Alto. Jennifer shared that she and Jack would like to try to get to the Ambassadors Society level to support research lab.\n",
      "{'level': 0.30000001192092896, 'Jack': 0.30000001192092896, 'research lab': 0.30000001192092896, 'Ambassadors Society': 0.30000001192092896, 'Jennifer': 0.2500000074505806, 'Roger': 0.20000000298023224, 'Julie': 0.20000000298023224, 'Amy': 0.20000000298023224, 'cultivation lunch': 0.20000000298023224, 'Palo Alto': 0.20000000298023224}\n",
      "\n",
      "\n",
      "Not available during next trip to Seattle. Declined last meeting. Will try again in Winter.\n",
      "{'meeting': 0.0, 'Winter': -0.30000001192092896, 'trip': -0.699999988079071, 'Seattle': -0.699999988079071}\n",
      "\n",
      "\n",
      "Emailed about continued funding or guidance regarding facilities project based on lab meeting\n",
      "{}\n",
      "\n",
      "\n",
      "Laurie is not able to meet now (too busy)\n",
      "{}\n",
      "\n",
      "\n",
      "Left message for meeting to gather feedback about Dayton event and negative concerns about upcoming initiative\n",
      "{}\n",
      "\n",
      "\n",
      "Bill would like to become more involved with University Center, first with a blog post and he will add the Institute to annual charities to support\n",
      "{}\n",
      "\n",
      "\n",
      "Emailed Yoshi to inquire if he would like to be featured in the annual report\n",
      "{}\n",
      "\n",
      "\n",
      "Wendy spoke with Troy Rigamonti and he identified Ingrid as a major gift prospect. He has been in touch with her due to her work with United Way in San Francisco and has expressed interest in getting involved in the Center\n",
      "{'Troy Rigamonti': 0.6000000238418579, 'Wendy': 0.6000000238418579, 'gift prospect': 0.6000000238418579, 'Ingrid': 0.6000000238418579}\n",
      "\n",
      "\n",
      "Agreed to review giving opportunities\n"
     ]
    },
    {
     "ename": "ResourceExhausted",
     "evalue": "429 Quota exceeded for quota metric 'Requests' and limit 'Requests per minute' of service 'language.googleapis.com' for consumer 'project_number:298180869348'.",
     "output_type": "error",
     "traceback": [
      "\u001b[0;31m---------------------------------------------------------------------------\u001b[0m",
      "\u001b[0;31m_InactiveRpcError\u001b[0m                         Traceback (most recent call last)",
      "\u001b[0;32m~/opt/anaconda3/lib/python3.8/site-packages/google/api_core/grpc_helpers.py\u001b[0m in \u001b[0;36merror_remapped_callable\u001b[0;34m(*args, **kwargs)\u001b[0m\n\u001b[1;32m     66\u001b[0m         \u001b[0;32mtry\u001b[0m\u001b[0;34m:\u001b[0m\u001b[0;34m\u001b[0m\u001b[0;34m\u001b[0m\u001b[0m\n\u001b[0;32m---> 67\u001b[0;31m             \u001b[0;32mreturn\u001b[0m \u001b[0mcallable_\u001b[0m\u001b[0;34m(\u001b[0m\u001b[0;34m*\u001b[0m\u001b[0margs\u001b[0m\u001b[0;34m,\u001b[0m \u001b[0;34m**\u001b[0m\u001b[0mkwargs\u001b[0m\u001b[0;34m)\u001b[0m\u001b[0;34m\u001b[0m\u001b[0;34m\u001b[0m\u001b[0m\n\u001b[0m\u001b[1;32m     68\u001b[0m         \u001b[0;32mexcept\u001b[0m \u001b[0mgrpc\u001b[0m\u001b[0;34m.\u001b[0m\u001b[0mRpcError\u001b[0m \u001b[0;32mas\u001b[0m \u001b[0mexc\u001b[0m\u001b[0;34m:\u001b[0m\u001b[0;34m\u001b[0m\u001b[0;34m\u001b[0m\u001b[0m\n",
      "\u001b[0;32m~/opt/anaconda3/lib/python3.8/site-packages/grpc/_channel.py\u001b[0m in \u001b[0;36m__call__\u001b[0;34m(self, request, timeout, metadata, credentials, wait_for_ready, compression)\u001b[0m\n\u001b[1;32m    825\u001b[0m                                       wait_for_ready, compression)\n\u001b[0;32m--> 826\u001b[0;31m         \u001b[0;32mreturn\u001b[0m \u001b[0m_end_unary_response_blocking\u001b[0m\u001b[0;34m(\u001b[0m\u001b[0mstate\u001b[0m\u001b[0;34m,\u001b[0m \u001b[0mcall\u001b[0m\u001b[0;34m,\u001b[0m \u001b[0;32mFalse\u001b[0m\u001b[0;34m,\u001b[0m \u001b[0;32mNone\u001b[0m\u001b[0;34m)\u001b[0m\u001b[0;34m\u001b[0m\u001b[0;34m\u001b[0m\u001b[0m\n\u001b[0m\u001b[1;32m    827\u001b[0m \u001b[0;34m\u001b[0m\u001b[0m\n",
      "\u001b[0;32m~/opt/anaconda3/lib/python3.8/site-packages/grpc/_channel.py\u001b[0m in \u001b[0;36m_end_unary_response_blocking\u001b[0;34m(state, call, with_call, deadline)\u001b[0m\n\u001b[1;32m    728\u001b[0m     \u001b[0;32melse\u001b[0m\u001b[0;34m:\u001b[0m\u001b[0;34m\u001b[0m\u001b[0;34m\u001b[0m\u001b[0m\n\u001b[0;32m--> 729\u001b[0;31m         \u001b[0;32mraise\u001b[0m \u001b[0m_InactiveRpcError\u001b[0m\u001b[0;34m(\u001b[0m\u001b[0mstate\u001b[0m\u001b[0;34m)\u001b[0m\u001b[0;34m\u001b[0m\u001b[0;34m\u001b[0m\u001b[0m\n\u001b[0m\u001b[1;32m    730\u001b[0m \u001b[0;34m\u001b[0m\u001b[0m\n",
      "\u001b[0;31m_InactiveRpcError\u001b[0m: <_InactiveRpcError of RPC that terminated with:\n\tstatus = StatusCode.RESOURCE_EXHAUSTED\n\tdetails = \"Quota exceeded for quota metric 'Requests' and limit 'Requests per minute' of service 'language.googleapis.com' for consumer 'project_number:298180869348'.\"\n\tdebug_error_string = \"{\"created\":\"@1630036162.707941000\",\"description\":\"Error received from peer ipv4:142.250.72.138:443\",\"file\":\"src/core/lib/surface/call.cc\",\"file_line\":1062,\"grpc_message\":\"Quota exceeded for quota metric 'Requests' and limit 'Requests per minute' of service 'language.googleapis.com' for consumer 'project_number:298180869348'.\",\"grpc_status\":8}\"\n>",
      "\nThe above exception was the direct cause of the following exception:\n",
      "\u001b[0;31mResourceExhausted\u001b[0m                         Traceback (most recent call last)",
      "\u001b[0;32m<ipython-input-16-45e5d0dffbbb>\u001b[0m in \u001b[0;36m<module>\u001b[0;34m\u001b[0m\n\u001b[1;32m      2\u001b[0m     \u001b[0mtest\u001b[0m \u001b[0;34m=\u001b[0m \u001b[0mrow\u001b[0m\u001b[0;34m[\u001b[0m\u001b[0;34m'Summary'\u001b[0m\u001b[0;34m]\u001b[0m\u001b[0;34m\u001b[0m\u001b[0;34m\u001b[0m\u001b[0m\n\u001b[1;32m      3\u001b[0m     \u001b[0mprint\u001b[0m\u001b[0;34m(\u001b[0m\u001b[0mtest\u001b[0m\u001b[0;34m)\u001b[0m\u001b[0;34m\u001b[0m\u001b[0;34m\u001b[0m\u001b[0m\n\u001b[0;32m----> 4\u001b[0;31m     \u001b[0mentity_sentiment\u001b[0m\u001b[0;34m(\u001b[0m\u001b[0mtest\u001b[0m\u001b[0;34m)\u001b[0m\u001b[0;34m\u001b[0m\u001b[0;34m\u001b[0m\u001b[0m\n\u001b[0m\u001b[1;32m      5\u001b[0m     \u001b[0mprint\u001b[0m\u001b[0;34m(\u001b[0m\u001b[0;34m'\\n'\u001b[0m\u001b[0;34m)\u001b[0m\u001b[0;34m\u001b[0m\u001b[0;34m\u001b[0m\u001b[0m\n",
      "\u001b[0;32m<ipython-input-5-0da3f4d8311b>\u001b[0m in \u001b[0;36mentity_sentiment\u001b[0;34m(text)\u001b[0m\n\u001b[1;32m      1\u001b[0m \u001b[0;32mdef\u001b[0m \u001b[0mentity_sentiment\u001b[0m\u001b[0;34m(\u001b[0m\u001b[0mtext\u001b[0m\u001b[0;34m)\u001b[0m\u001b[0;34m:\u001b[0m\u001b[0;34m\u001b[0m\u001b[0;34m\u001b[0m\u001b[0m\n\u001b[0;32m----> 2\u001b[0;31m     \u001b[0mr1\u001b[0m \u001b[0;34m=\u001b[0m \u001b[0mextract_entity\u001b[0m\u001b[0;34m(\u001b[0m\u001b[0mtext\u001b[0m\u001b[0;34m)\u001b[0m\u001b[0;34m\u001b[0m\u001b[0;34m\u001b[0m\u001b[0m\n\u001b[0m\u001b[1;32m      3\u001b[0m     \u001b[0mentities_sentiment\u001b[0m\u001b[0;34m=\u001b[0m\u001b[0;34m{\u001b[0m\u001b[0;34m}\u001b[0m\u001b[0;34m\u001b[0m\u001b[0;34m\u001b[0m\u001b[0m\n\u001b[1;32m      4\u001b[0m     \u001b[0;32mfor\u001b[0m \u001b[0me\u001b[0m \u001b[0;32min\u001b[0m \u001b[0mr1\u001b[0m\u001b[0;34m.\u001b[0m\u001b[0mentities\u001b[0m\u001b[0;34m:\u001b[0m\u001b[0;34m\u001b[0m\u001b[0;34m\u001b[0m\u001b[0m\n\u001b[1;32m      5\u001b[0m         \u001b[0msentiments\u001b[0m \u001b[0;34m=\u001b[0m \u001b[0;34m[\u001b[0m\u001b[0;34m]\u001b[0m\u001b[0;34m\u001b[0m\u001b[0;34m\u001b[0m\u001b[0m\n",
      "\u001b[0;32m<ipython-input-4-d8a5395b4adb>\u001b[0m in \u001b[0;36mextract_entity\u001b[0;34m(text)\u001b[0m\n\u001b[1;32m      2\u001b[0m     \u001b[0;32mglobal\u001b[0m \u001b[0mclient\u001b[0m\u001b[0;34m\u001b[0m\u001b[0;34m\u001b[0m\u001b[0m\n\u001b[1;32m      3\u001b[0m     \u001b[0mdocument\u001b[0m \u001b[0;34m=\u001b[0m \u001b[0mlanguage_v1\u001b[0m\u001b[0;34m.\u001b[0m\u001b[0mDocument\u001b[0m\u001b[0;34m(\u001b[0m\u001b[0mcontent\u001b[0m\u001b[0;34m=\u001b[0m\u001b[0mtext\u001b[0m\u001b[0;34m,\u001b[0m \u001b[0mtype_\u001b[0m\u001b[0;34m=\u001b[0m\u001b[0mlanguage_v1\u001b[0m\u001b[0;34m.\u001b[0m\u001b[0mDocument\u001b[0m\u001b[0;34m.\u001b[0m\u001b[0mType\u001b[0m\u001b[0;34m.\u001b[0m\u001b[0mPLAIN_TEXT\u001b[0m\u001b[0;34m)\u001b[0m\u001b[0;34m\u001b[0m\u001b[0;34m\u001b[0m\u001b[0m\n\u001b[0;32m----> 4\u001b[0;31m     \u001b[0;32mreturn\u001b[0m \u001b[0mclient\u001b[0m\u001b[0;34m.\u001b[0m\u001b[0manalyze_entities\u001b[0m\u001b[0;34m(\u001b[0m\u001b[0mrequest\u001b[0m\u001b[0;34m=\u001b[0m\u001b[0;34m{\u001b[0m\u001b[0;34m'document'\u001b[0m\u001b[0;34m:\u001b[0m \u001b[0mdocument\u001b[0m\u001b[0;34m}\u001b[0m\u001b[0;34m)\u001b[0m\u001b[0;34m\u001b[0m\u001b[0;34m\u001b[0m\u001b[0m\n\u001b[0m\u001b[1;32m      5\u001b[0m \u001b[0;34m\u001b[0m\u001b[0m\n\u001b[1;32m      6\u001b[0m \u001b[0;32mdef\u001b[0m \u001b[0mextract_sentiment\u001b[0m\u001b[0;34m(\u001b[0m\u001b[0mtext\u001b[0m\u001b[0;34m)\u001b[0m\u001b[0;34m:\u001b[0m\u001b[0;34m\u001b[0m\u001b[0;34m\u001b[0m\u001b[0m\n",
      "\u001b[0;32m~/opt/anaconda3/lib/python3.8/site-packages/google/cloud/language_v1/services/language_service/client.py\u001b[0m in \u001b[0;36manalyze_entities\u001b[0;34m(self, request, document, encoding_type, retry, timeout, metadata)\u001b[0m\n\u001b[1;32m    477\u001b[0m \u001b[0;34m\u001b[0m\u001b[0m\n\u001b[1;32m    478\u001b[0m         \u001b[0;31m# Send the request.\u001b[0m\u001b[0;34m\u001b[0m\u001b[0;34m\u001b[0m\u001b[0;34m\u001b[0m\u001b[0m\n\u001b[0;32m--> 479\u001b[0;31m         \u001b[0mresponse\u001b[0m \u001b[0;34m=\u001b[0m \u001b[0mrpc\u001b[0m\u001b[0;34m(\u001b[0m\u001b[0mrequest\u001b[0m\u001b[0;34m,\u001b[0m \u001b[0mretry\u001b[0m\u001b[0;34m=\u001b[0m\u001b[0mretry\u001b[0m\u001b[0;34m,\u001b[0m \u001b[0mtimeout\u001b[0m\u001b[0;34m=\u001b[0m\u001b[0mtimeout\u001b[0m\u001b[0;34m,\u001b[0m \u001b[0mmetadata\u001b[0m\u001b[0;34m=\u001b[0m\u001b[0mmetadata\u001b[0m\u001b[0;34m,\u001b[0m\u001b[0;34m)\u001b[0m\u001b[0;34m\u001b[0m\u001b[0;34m\u001b[0m\u001b[0m\n\u001b[0m\u001b[1;32m    480\u001b[0m \u001b[0;34m\u001b[0m\u001b[0m\n\u001b[1;32m    481\u001b[0m         \u001b[0;31m# Done; return the response.\u001b[0m\u001b[0;34m\u001b[0m\u001b[0;34m\u001b[0m\u001b[0;34m\u001b[0m\u001b[0m\n",
      "\u001b[0;32m~/opt/anaconda3/lib/python3.8/site-packages/google/api_core/gapic_v1/method.py\u001b[0m in \u001b[0;36m__call__\u001b[0;34m(self, *args, **kwargs)\u001b[0m\n\u001b[1;32m    143\u001b[0m             \u001b[0mkwargs\u001b[0m\u001b[0;34m[\u001b[0m\u001b[0;34m\"metadata\"\u001b[0m\u001b[0;34m]\u001b[0m \u001b[0;34m=\u001b[0m \u001b[0mmetadata\u001b[0m\u001b[0;34m\u001b[0m\u001b[0;34m\u001b[0m\u001b[0m\n\u001b[1;32m    144\u001b[0m \u001b[0;34m\u001b[0m\u001b[0m\n\u001b[0;32m--> 145\u001b[0;31m         \u001b[0;32mreturn\u001b[0m \u001b[0mwrapped_func\u001b[0m\u001b[0;34m(\u001b[0m\u001b[0;34m*\u001b[0m\u001b[0margs\u001b[0m\u001b[0;34m,\u001b[0m \u001b[0;34m**\u001b[0m\u001b[0mkwargs\u001b[0m\u001b[0;34m)\u001b[0m\u001b[0;34m\u001b[0m\u001b[0;34m\u001b[0m\u001b[0m\n\u001b[0m\u001b[1;32m    146\u001b[0m \u001b[0;34m\u001b[0m\u001b[0m\n\u001b[1;32m    147\u001b[0m \u001b[0;34m\u001b[0m\u001b[0m\n",
      "\u001b[0;32m~/opt/anaconda3/lib/python3.8/site-packages/google/api_core/retry.py\u001b[0m in \u001b[0;36mretry_wrapped_func\u001b[0;34m(*args, **kwargs)\u001b[0m\n\u001b[1;32m    283\u001b[0m                 \u001b[0mself\u001b[0m\u001b[0;34m.\u001b[0m\u001b[0m_initial\u001b[0m\u001b[0;34m,\u001b[0m \u001b[0mself\u001b[0m\u001b[0;34m.\u001b[0m\u001b[0m_maximum\u001b[0m\u001b[0;34m,\u001b[0m \u001b[0mmultiplier\u001b[0m\u001b[0;34m=\u001b[0m\u001b[0mself\u001b[0m\u001b[0;34m.\u001b[0m\u001b[0m_multiplier\u001b[0m\u001b[0;34m\u001b[0m\u001b[0;34m\u001b[0m\u001b[0m\n\u001b[1;32m    284\u001b[0m             )\n\u001b[0;32m--> 285\u001b[0;31m             return retry_target(\n\u001b[0m\u001b[1;32m    286\u001b[0m                 \u001b[0mtarget\u001b[0m\u001b[0;34m,\u001b[0m\u001b[0;34m\u001b[0m\u001b[0;34m\u001b[0m\u001b[0m\n\u001b[1;32m    287\u001b[0m                 \u001b[0mself\u001b[0m\u001b[0;34m.\u001b[0m\u001b[0m_predicate\u001b[0m\u001b[0;34m,\u001b[0m\u001b[0;34m\u001b[0m\u001b[0;34m\u001b[0m\u001b[0m\n",
      "\u001b[0;32m~/opt/anaconda3/lib/python3.8/site-packages/google/api_core/retry.py\u001b[0m in \u001b[0;36mretry_target\u001b[0;34m(target, predicate, sleep_generator, deadline, on_error)\u001b[0m\n\u001b[1;32m    186\u001b[0m     \u001b[0;32mfor\u001b[0m \u001b[0msleep\u001b[0m \u001b[0;32min\u001b[0m \u001b[0msleep_generator\u001b[0m\u001b[0;34m:\u001b[0m\u001b[0;34m\u001b[0m\u001b[0;34m\u001b[0m\u001b[0m\n\u001b[1;32m    187\u001b[0m         \u001b[0;32mtry\u001b[0m\u001b[0;34m:\u001b[0m\u001b[0;34m\u001b[0m\u001b[0;34m\u001b[0m\u001b[0m\n\u001b[0;32m--> 188\u001b[0;31m             \u001b[0;32mreturn\u001b[0m \u001b[0mtarget\u001b[0m\u001b[0;34m(\u001b[0m\u001b[0;34m)\u001b[0m\u001b[0;34m\u001b[0m\u001b[0;34m\u001b[0m\u001b[0m\n\u001b[0m\u001b[1;32m    189\u001b[0m \u001b[0;34m\u001b[0m\u001b[0m\n\u001b[1;32m    190\u001b[0m         \u001b[0;31m# pylint: disable=broad-except\u001b[0m\u001b[0;34m\u001b[0m\u001b[0;34m\u001b[0m\u001b[0;34m\u001b[0m\u001b[0m\n",
      "\u001b[0;32m~/opt/anaconda3/lib/python3.8/site-packages/google/api_core/grpc_helpers.py\u001b[0m in \u001b[0;36merror_remapped_callable\u001b[0;34m(*args, **kwargs)\u001b[0m\n\u001b[1;32m     67\u001b[0m             \u001b[0;32mreturn\u001b[0m \u001b[0mcallable_\u001b[0m\u001b[0;34m(\u001b[0m\u001b[0;34m*\u001b[0m\u001b[0margs\u001b[0m\u001b[0;34m,\u001b[0m \u001b[0;34m**\u001b[0m\u001b[0mkwargs\u001b[0m\u001b[0;34m)\u001b[0m\u001b[0;34m\u001b[0m\u001b[0;34m\u001b[0m\u001b[0m\n\u001b[1;32m     68\u001b[0m         \u001b[0;32mexcept\u001b[0m \u001b[0mgrpc\u001b[0m\u001b[0;34m.\u001b[0m\u001b[0mRpcError\u001b[0m \u001b[0;32mas\u001b[0m \u001b[0mexc\u001b[0m\u001b[0;34m:\u001b[0m\u001b[0;34m\u001b[0m\u001b[0;34m\u001b[0m\u001b[0m\n\u001b[0;32m---> 69\u001b[0;31m             \u001b[0msix\u001b[0m\u001b[0;34m.\u001b[0m\u001b[0mraise_from\u001b[0m\u001b[0;34m(\u001b[0m\u001b[0mexceptions\u001b[0m\u001b[0;34m.\u001b[0m\u001b[0mfrom_grpc_error\u001b[0m\u001b[0;34m(\u001b[0m\u001b[0mexc\u001b[0m\u001b[0;34m)\u001b[0m\u001b[0;34m,\u001b[0m \u001b[0mexc\u001b[0m\u001b[0;34m)\u001b[0m\u001b[0;34m\u001b[0m\u001b[0;34m\u001b[0m\u001b[0m\n\u001b[0m\u001b[1;32m     70\u001b[0m \u001b[0;34m\u001b[0m\u001b[0m\n\u001b[1;32m     71\u001b[0m     \u001b[0;32mreturn\u001b[0m \u001b[0merror_remapped_callable\u001b[0m\u001b[0;34m\u001b[0m\u001b[0;34m\u001b[0m\u001b[0m\n",
      "\u001b[0;32m~/opt/anaconda3/lib/python3.8/site-packages/six.py\u001b[0m in \u001b[0;36mraise_from\u001b[0;34m(value, from_value)\u001b[0m\n",
      "\u001b[0;31mResourceExhausted\u001b[0m: 429 Quota exceeded for quota metric 'Requests' and limit 'Requests per minute' of service 'language.googleapis.com' for consumer 'project_number:298180869348'."
     ]
    }
   ],
   "source": [
    "for _, row in sample.iterrows():\n",
    "    test = row['Summary']\n",
    "    print(test)\n",
    "    entity_sentiment(test)\n",
    "    print('\\n')"
   ]
  }
 ],
 "metadata": {
  "kernelspec": {
   "display_name": "Python 3",
   "language": "python",
   "name": "python3"
  },
  "language_info": {
   "codemirror_mode": {
    "name": "ipython",
    "version": 3
   },
   "file_extension": ".py",
   "mimetype": "text/x-python",
   "name": "python",
   "nbconvert_exporter": "python",
   "pygments_lexer": "ipython3",
   "version": "3.8.5"
  }
 },
 "nbformat": 4,
 "nbformat_minor": 4
}
