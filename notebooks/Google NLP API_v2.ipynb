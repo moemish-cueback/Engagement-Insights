{
 "cells": [
  {
   "cell_type": "code",
   "execution_count": 27,
   "metadata": {},
   "outputs": [],
   "source": [
    "from google.cloud import language_v1\n",
    "import os\n",
    "import re"
   ]
  },
  {
   "cell_type": "code",
   "execution_count": 28,
   "metadata": {},
   "outputs": [],
   "source": [
    "os.environ[\"GOOGLE_APPLICATION_CREDENTIALS\"] = './cueback-app-e91f3f8c0155.json'"
   ]
  },
  {
   "cell_type": "code",
   "execution_count": 29,
   "metadata": {},
   "outputs": [],
   "source": [
    "client = language_v1.LanguageServiceClient()"
   ]
  },
  {
   "cell_type": "code",
   "execution_count": 30,
   "metadata": {},
   "outputs": [],
   "source": [
    "def extract_entity(text):\n",
    "    global client\n",
    "    document = language_v1.Document(content=text, type_=language_v1.Document.Type.PLAIN_TEXT)\n",
    "    return client.analyze_entities(request={'document': document})\n",
    "\n",
    "def extract_sentiment(text):\n",
    "    global client\n",
    "    document = language_v1.Document(content=text, type_=language_v1.Document.Type.PLAIN_TEXT)\n",
    "    return client.analyze_sentiment(request={'document': document})"
   ]
  },
  {
   "cell_type": "code",
   "execution_count": 42,
   "metadata": {},
   "outputs": [],
   "source": [
    "def entity_sentiment(text):\n",
    "    if len(text.split()) > 0:\n",
    "        r1 = extract_entity(text)\n",
    "        entities_sentiment={}\n",
    "        for e in r1.entities:\n",
    "            if str(e.type_) in ['Type.PERSON', 'Type.ORGANIZATION', 'Type.LOCATION', 'Type.DATE']:\n",
    "                sentiments = []\n",
    "                for mention in e.mentions:\n",
    "                    try:\n",
    "                        sentences = re.findall(r\"([^.]*?\"+mention.text.content+\"[^.]*\\.)\",text)  \n",
    "                        for s in sentences:\n",
    "                            sentiment = extract_sentiment(s)\n",
    "                            sentiments.append(sentiment.document_sentiment.score)\n",
    "                    except:\n",
    "                        pass\n",
    "                if len(sentiments) != 0:\n",
    "                    entities_sentiment[e.name] = sum(sentiments) / len(sentiments)\n",
    "        entities_sentiment = dict(sorted(entities_sentiment.items(), key=lambda item: item[1], reverse=True))\n",
    "        print(entities_sentiment)\n",
    "        return entities_sentiment"
   ]
  },
  {
   "cell_type": "markdown",
   "metadata": {},
   "source": [
    "# Aggregated Test using data from the App pilot"
   ]
  },
  {
   "cell_type": "code",
   "execution_count": 33,
   "metadata": {},
   "outputs": [],
   "source": [
    "import pandas as pd \n",
    "from tqdm import tqdm"
   ]
  },
  {
   "cell_type": "code",
   "execution_count": 34,
   "metadata": {},
   "outputs": [
    {
     "name": "stderr",
     "output_type": "stream",
     "text": [
      "/Users/mo/opt/anaconda3/lib/python3.8/site-packages/tqdm/std.py:697: FutureWarning: The Panel class is removed from pandas. Accessing it from the top-level namespace will also be removed in the next version\n",
      "  from pandas import Panel\n"
     ]
    }
   ],
   "source": [
    "tqdm.pandas()"
   ]
  },
  {
   "cell_type": "code",
   "execution_count": 35,
   "metadata": {},
   "outputs": [
    {
     "data": {
      "text/plain": [
       "Index(['Unnamed: 0', 'Title', 'Len', 'Ed', 'Woody', 'Photo'], dtype='object')"
      ]
     },
     "execution_count": 35,
     "metadata": {},
     "output_type": "execute_result"
    }
   ],
   "source": [
    "test_df = pd.read_csv('data/platform data.csv')\n",
    "test_df.columns"
   ]
  },
  {
   "cell_type": "code",
   "execution_count": 36,
   "metadata": {},
   "outputs": [
    {
     "data": {
      "text/plain": [
       "14"
      ]
     },
     "execution_count": 36,
     "metadata": {},
     "output_type": "execute_result"
    }
   ],
   "source": [
    "len(test_df)"
   ]
  },
  {
   "cell_type": "markdown",
   "metadata": {},
   "source": [
    "## Analysis"
   ]
  },
  {
   "cell_type": "code",
   "execution_count": 41,
   "metadata": {},
   "outputs": [
    {
     "name": "stdout",
     "output_type": "stream",
     "text": [
      "{'DJ Trainees': 0.800000011920929, 'Steve Stagnero': 0.6000000238418579, '1971': 0.2500000037252903, 'KCPR': 0.22000000327825547, 'parts': 0.10000000149011612, 'Format Sheets': 0.02500000037252903, 'few': 0.0, 'The Lounge': 0.0, 'DJ trainees': -0.10000000149011612, 'world': -0.10000000149011612, 'Blood, Sweat & Tears': -0.10000000149011612, 'Beach Boys': -0.10000000149011612, 'The Who': -0.10000000149011612, 'Andy Williams': -0.10000000149011612, 'Winter Quarter': -0.20000000298023224, '1972': -0.20000000298023224, 'anyone': -0.4000000059604645}\n",
      "{'radio station': 0.10000000149011612, 'student': 0.10000000149011612, 'everyone': 0.10000000149011612, 'DJ trainees': 0.10000000149011612, 'Jim Stueck': 0.0, 'Alan Holmes': 0.0, 'studio': 0.0, 'staff': 0.0, 'facilities': 0.0, 'KCPR': 0.0, 'Woody Goulart': 0.0}\n",
      "{'collaborator': 0.4000000059604645, 'Anyone': 0.4000000059604645, 'Radio Hill': 0.0, 'government': 0.0, 'station': 0.0, 'transmitter facilities': 0.0, 'Emergency Broadcast System': 0.0, 'friends': 0.0, 'Eric Dausman': 0.0, 'Steve Ruegnitz': 0.0, 'Chevy': 0.0, 'Dean Opperman': 0.0, 'Al Lindley': 0.0, 'Steve Witten': 0.0, 'Ron Margaretten': 0.0, 'transmitter site': -0.04000000059604645, 'Mustang Daily': -0.10000000149011612, 'KCPR': -0.17499999701976776, 'KVEC': -0.17500000074505806, 'San Luis Obispo': -0.20000000298023224, 'town': -0.20000000298023224, '1969': -0.20000000298023224, '1973': -0.20000000298023224, 'campus': -0.2666666756073634, 'KSLY': -0.30000000447034836, 'studios': -0.32499999925494194, 'Jan 18th': -0.3499999940395355, 'Jan': -0.36666666467984516, 'San Luis Creek': -0.4000000059604645, 'Marsh Streets': -0.4000000059604645, 'corner': -0.4000000059604645, 'flooding downtown': -0.4000000059604645, 'basement': -0.4000000059604645, 'January 18, 1973': -0.4000000059604645, 'buildings': -0.6000000238418579, 'Graphic Arts Building': -0.6000000238418579}\n",
      "{'friends': 0.30000000447034836, 'Everyone': 0.20000000298023224, 'reunions': 0.20000000298023224, 'alumni': 0.20000000298023224, 'group area': 0.20000000298023224, 'Scott Cody': 0.20000000298023224, 'Cuesta Park': 0.20000000298023224, 'Toyon': 0.20000000298023224, 'KCPR': 0.10000000149011612, \"Ed O'Brien\": 0.07142857249294009, 'Lou Rinaldi': 0.014285714498588018, 'Alumni': 0.0, 'many': 0.0, 'Kennedy Library': 0.0, 'Rhino Records': 0.0, 'Maureen McGovern': 0.0, '1970': 0.0, 'studio': -0.10000000149011612, 'classmates': -0.10000000149011612, 'home': -0.10000000149011612, 'Rick Williams': -0.10000000149011612, 'Deborah': -0.10000000149011612, 'Kathy': -0.10000000149011612, 'Altmar': -0.10000000149011612, 'Rick': -0.10000000149011612, 'San Luis Obispo': -0.10000000149011612}\n",
      "{'KCPR': 0.4000000059604645, 'Poly Royal': 0.4000000059604645, 'teams': 0.0, '1973': 0.0, 'campus': -0.30000001192092896, 'field': -0.30000001192092896, 'Eric Dausman': -0.4000000059604645, 'studios': -0.4000000059604645, 'staff': -0.4000000059604645}\n",
      "{'Yahoo Group': 0.0, 'KCPR Alumni Group': 0.0, 'Frank Warren': 0.0, '2008': 0.0, '2014': 0.0, '1987': 0.0, 'Royal': -0.10000000149011612, 'Poly Royal': -0.10000000149011612, 'Jon Jaeger': -0.10000000397364299, 'campus official': -0.20000000298023224, 'Scott Larsen': -0.24000000357627868}\n",
      "{'audio control room': 0.5, 'Ed Pinson': 0.5, '1969': 0.44999999552965164, 'government agencies': 0.4000000059604645, 'radio station': 0.20000000298023224, 'San Diego State College': 0.20000000298023224, 'people': 0.20000000298023224, 'Closed Circuit Television Department': 0.20000000298023224, 'studios': 0.15000000223517418, 'California State Polytechnic College': 0.10000000149011612, 'James D. Stueck': 0.10000000149011612, 'chorus room': 0.10000000149011612, 'C': 0.10000000149011612, 'Little Theater': 0.09999999900658925, 'KCPR': 0.09600000143051148, 'formation': 0.07999999523162842, 'Murray Smith': 0.033333333830038704, 'Department of English': 0.0, 'Don Nelson': 0.0, 'Jims': 0.0, 'radio studio': 0.0, 'Establishment of Campus Radio': 0.0, 'Mr. Johnson': 0.0, 'neighbors': 0.0, 'scene': 0.0, 'July 29, 1968': 0.0, 'government': -1.862645149230957e-09, 'Kennedy': -0.011718750291038305, 'Jim Long': -0.020000000298023225, 'Federal Communications Commission': -0.05000000074505806, 'carrier': -0.05000000074505806, 'school': -0.05000000074505806, 'Ed Zuchelli': -0.05000000322858492, 'places': -0.050000011920928955, 'road': -0.05454545400359414, 'college administrators': -0.05999999940395355, 'Martin': -0.06500000034769376, 'Day': -0.08000000417232514, 'Davidson': -0.09000000432133674, 'dormitories': -0.10000000149011612, 'Kennedy Library': -0.10000000149011612, 'Class': -0.10000000149011612, 'everyone': -0.10000000149011612, 'Music Department': -0.10000000149011612, 'custodian': -0.10000000149011612, 'Robert Seibly': -0.10000000149011612, 'Healey': -0.10000000447034836, 'campus': -0.11538461653085855, 'Washington': -0.13333333656191826, 'Steve Mieth': -0.13793103807959065, 'campus radio station': -0.14999999850988388, 'studio': -0.15714285842009953, 'Audio Visual Department': -0.16000000536441802, 'men': -0.16216216437719963, 'station': -0.1622950840191763, 'room': -0.1647058830541723, 'Commission': -0.16666666666666666, 'committee': -0.16666666915019354, 'President': -0.16666666915019354, 'man': -0.1700000051409006, 'Jim Stueck': -0.17271028218146797, 'department': -0.1799999974668026, 'California State Polytechnic': -0.1810810797520586, 'Graphic Arts': -0.1826086967535641, 'Robert Nichol': -0.20000000298023224, 'campus radio committee': -0.20000000298023224, 'Some': -0.20000000298023224, 'microfiche viewer': -0.20000000298023224, 'college students': -0.20000000298023224, 'Administration building': -0.20000000298023224, 'somewhere': -0.20000000298023224, 'Glen H. Smith': -0.20476190958704268, 'Alan Holmes': -0.21158301413174302, 'rooms': -0.22499999776482582, 'building': -0.23333333184321722, 'members': -0.23333334922790527, 'many': -0.25000000819563867, 'one': -0.25384615863171905, 'administrators': -0.26666667436559993, 'faculty station manager': -0.2750000059604645, 'administrator': -0.2750000087544322, 'students': -0.2904761940950439, 'Government': -0.2999999988824129, 'Federal Government': -0.2999999988824129, 'Bob': -0.30000001192092896, 'boys': -0.30000001192092896, 'entities': -0.30000001192092896, 'Dean of Applied Arts': -0.30000001192092896, 'studio location': -0.350000012665987, 'Speech Department': -0.3666666696468989, 'administration': -0.4000000034769376, 'AV': -0.4000000059604645, 'radio production room': -0.4000000059604645, 'commission': -0.4000000059604645, 'instructor': -0.4000000059604645, 'Gary Fernstrom': -0.41250000055879354, 'most': -0.4333333373069763, 'station manager': -0.43333334227403003, 'program director': -0.48333333308498067, 'staff': -0.5, 'departments': -0.5, 'buildings': -0.5, 'Journalism Department': -0.5, 'college campus': -0.5, 'phone company': -0.5111111195551025, 'racks': -0.6500000059604645, 'someone': -0.6666666666666666, 'administration building': -0.699999988079071, 'teacher': -0.699999988079071, 'no one': -0.7000000178813934, 'person': -0.75}\n",
      "{'class D stations': 0.4000000059604645, '1966': 0.20000000298023224, 'FCC': 0.15000000223517418, 'factory': 0.10000000149011612, 'Marty Hijmans': 0.10000000149011612, 'facilities': 0.0, 'band': 0.0, 'anyone': 0.0, 'AC': 0.0, 'Electrical Engineering Department': 0.0, 'October 27, 1969': 0.0, 'July 14, 1970': 0.0, 'KCPR': -0.024166668765246868, 'transmitter site': -0.033333333830038704, 'Visual Electronics': -0.033333336313565574, 'Cal Poly': -0.05000000447034836, 'two': -0.05000000447034836, \"Ed O'Brien\": -0.09000000357627869, 'Len Filomeo': -0.10000000149011612, 'stations': -0.10000000149011612, 'Jampro JA-1BE': -0.10000000149011612, 'studio': -0.10000000149011612, 'DC': -0.1666666716337204, 'places': -0.20000000298023224, 'station': -0.20000000298023224, 'Master Control room': -0.20000000298023224, 'October 9, 1969': -0.20000000298023224, '1970': -0.23333334177732468, 'transformer': -0.30000001192092896, 'Eric': -0.30000001192092896, 'Speech Department': -0.30000001192092896, 'center': -0.30000001192092896, 'Acopian': -0.30000001192092896, 'operator': -0.4000000059604645, 'radio stations': -0.4000000059604645, 'no one': -0.5, 'Jim Long': -0.5, 'The New York Times': -0.6000000238418579, 'department chairman': -0.6000000238418579, 'secretary': -0.6000000238418579, 'March of 1970': -0.6000000238418579, 'FM radio stations': -0.800000011920929}\n"
     ]
    },
    {
     "name": "stdout",
     "output_type": "stream",
     "text": [
      "{'master control room': 0.30000001192092896, 'radio station': 0.20000000298023224, 'Bill Gurzi': 0.15000000409781933, 'station': 0.15000000223517418, '1971': 0.13333333532015482, 'Room 202': 0.10000000149011612, 'studios': 0.10000000149011612, 'offices': 0.10000000149011612, 'Master Control Room': 0.10000000149011612, 'Craig Hines': 0.10000000149011612, 'KCPR': 0.06666667014360428, 'KSLY': 0.06666667014360428, 'William R. Gurzi': 0.0, 'studio': -0.05000000074505806, 'Room 201': -0.10000000149011612, '1970': -0.10000000149011612, '1973': -0.20000000298023224}\n",
      "{'campus carpentry department': 0.8999999761581421, 'Bill Gurzi': 0.7714285509926933, 'factory floor': 0.699999988079071, 'Mid State Electronics': 0.6000000238418579, 'side': 0.5999999940395355, \"Ed O'Brien\": 0.5999999841054281, 'studio': 0.44999998807907104, 'control room': 0.42500000074505806, 'board': 0.3799999952316284, 'campus': 0.29999998211860657, 'Marty Hijmans': 0.24615384065187895, 'Sparta A-20': 0.20000000298023224, 'Sacramento': 0.20000000298023224, 'Cal Poly': 0.20000000298023224, 'parts': 0.1666666716337204, 'KCPR': 0.13999999761581422, 'Sparta': 0.0800000011920929, 'Glenn Daly': 0.05000000074505806, 'mainstay': 0.05000000074505806, 'radio stations': 0.05000000074505806, 'San Luis Obispo': 0.05000000074505806, 'control room facilities': 0.0, 'senior': 0.0, 'KSLY': 0.0, 'market radio stations': 0.0, 'engineer': 0.0, 'IT department': 0.0, 'studios': 0.0, 'coast': 0.0, 'Eric Dausman': 0.0, 'KVEC': 0.0, 'Walnut Street': 0.0, 'Craig': 0.0, 'station': -0.05000000260770321, 'A-20': -0.16666666169961294, 'stations downtown': -0.30000001192092896, 'LA': -0.30000001192092896}\n",
      "{'unit': 0.20000000298023224, 'connoisseurs': 0.20000000298023224, 'Rek-O-Cut': 0.15000000223517418, 'turntables': 0.05000000074505806, 'control room': 0.0, 'Sparta': 0.0, 'Shure': 0.0, 'B-12': 0.0, 'Rek-O-Kut': 0.0, 'KCPR': -0.05000000074505806, 'record library': -0.10000000149011612, 'station': -0.15000000223517418, 'track': -0.15000000347693762, 'record grove': -0.20000000298023224, 'grove': -0.2500000074505806, 'DJ': -0.30000001192092896, 'cue speaker': -0.4000000059604645}\n",
      "{'news department': 0.30000001192092896, 'DJ': 0.20000000298023224, 'studio': 0.10000000149011612, 'caller': 0.049999999813735485, 'callers': -0.033333333830038704, 'Sparta': -0.06666666766007741, 'people': -0.10000000149011612, 'Production Room': -0.20000000298023224, 'Ampex': -0.20000000298023224, 'each other': -0.20000000298023224, 'station': -0.3000000063329935, 'radio stations': -0.4000000059604645, 'someone': -0.4000000059604645}\n",
      "{'standing wave bridges': 0.800000011920929, 'Studio B': 0.699999988079071, 'Radio Hill': 0.4000000059604645, 'Pacific Bell': 0.4000000059604645, 'Dickey': 0.3500000089406967, 'engineering shop': 0.30000001192092896, 'father-in-law': 0.30000001192092896, 'Sandercock Street': 0.30000001192092896, 'Electrical Engineering Department': 0.30000001192092896, 'thousands': 0.30000001192092896, '1973': 0.30000001192092896, 'home': 0.26666667064030963, 'KKDJ': 0.20000000670552254, 'Steve Ruegnitz': 0.20000000670552254, 'Poly Royal': 0.20000000298023224, 'KATY-FM': 0.17999999821186066, 'RG-218': 0.15000000099341074, 'V': 0.12222222321563297, 'tower': 0.10000000149011612, 'plumber': 0.10000000149011612, 'KVEC': 0.10000000149011612, 'Radio Shack': 0.10000000149011612, 'KIIS': 0.10000000149011612, 'Mt': 0.10000000149011612, 'AC': 0.10000000149011612, 'Eric Dausman': 0.08108108027561291, 'KCPR': 0.06363636322996834, 'Rick Smith': 0.05714285799435207, '1972': 0.05000000074505806, 'FM': 0.036363635550845756, 'friends': 0.033333333830038704, '2000': 0.033333333830038704, 'Jampro': 0.027272729033773594, 'Harold Hallikainen': 0.020000001415610313, 'KATY': 0.019999997317790986, 'studios': 0.0, 'Bernie Wise': 0.0, 'hometown': 0.0, 'Sparta': 0.0, 'staff': 0.0, 'Cal Poly': 0.0, 'Bernie Box': 0.0, 'plumbing shop': 0.0, 'campus': 0.0, 'Sparta Electronics': 0.0, 'Gates RDC': 0.0, 'May of 1974': 0.0, 'May 29th at 11 AM.': 0.0, 'ITA': -0.008333334078391394, 'couple': -0.033333336313565574, 'John Grandy': -0.05000000074505806, 'solder': -0.05000000074505806, 'Monterey Street': -0.06666667014360428, 'nobody': -0.09999999403953552, 'building': -0.10000000149011612, 'floor': -0.10000000149011612, 'Duane Hill': -0.10000000149011612, 'KSLY': -0.10000000149011612, 'print shop': -0.10000000149011612, 'hall': -0.10000000149011612, 'hallway': -0.10000000149011612, 'area': -0.10000000149011612, 'Jampro Antenna Company': -0.10000000149011612, 'operator': -0.10000000149011612, 'transmitter building': -0.10000000149011612, 'Graphics Arts': -0.10000000149011612, 'Stanford': -0.10000000149011612, 'Sacramento': -0.10000000149011612, 'DJs': -0.10000000149011612, 'Class D': -0.10000000149011612, 'Homer Odem': -0.10243902591670431, 'shop': -0.12499999441206455, 'RCA': -0.15000000223517418, 'transmission line': -0.15714285948446818, 'both': -0.1666666716337204, 'Len Filomeo': -0.20000000298023224, 'KUNA-FM': -0.20000000298023224, 'transmitter cabinet': -0.20000000298023224, 'base': -0.20000000298023224, 'Wilson': -0.20000000298023224, 'dealership': -0.20000000670552254, 'VW': -0.20000000670552254, 'station': -0.21666667237877846, 'some': -0.22500000055879354, 'parts': -0.30000000074505806, 'Bauer': -0.3000000019868215, 'students': -0.30000000447034836, 'location': -0.30000001192092896, 'KZSU': -0.3999999947845936, 'somewhere': -0.4000000059604645, 'office': -0.4000000134110451, 'anywhere': -0.5, 'room': -0.5, 'engineers': -0.5, 'San Luis Obispo': -0.5, 'station manager': -0.6000000238418579, 'facilities': -0.699999988079071, 'Glenn Daly': -0.699999988079071, 'house': -0.699999988079071}\n",
      "{'record library': 0.8999999761581421, 'Steve Greenberg': 0.5, 'Gotham City': 0.5, 'studio': 0.3500000014901161, 'home': 0.3333333383003871, 'professionals': 0.30000001192092896, \"Ed O'Brien\": 0.27142857547317234, 'Al Beckner': 0.2500000037252903, 'studios': 0.20000000298023224, 'stations production library': 0.20000000298023224, 'suspects': 0.20000000298023224, 'GrassSmoker': 0.1666666716337204, 'spot': 0.13000000417232513, 'Eric Dausman': 0.10000000397364299, 'station': 0.10000000149011612, 'The Commissioner': 0.10000000149011612, 'KCPR': 0.0899999976158142, 'Each': 0.0, 'Kung-Fu': 0.0, 'Cheryl Wright': 0.0, 'characters': 0.0, 'each other': 0.0, 'radio station': 0.0, 'Morgana Hill': 0.0, 'Lt. Guru': 0.0, '1960': 0.0, 'May 29th, 1974': 0.0, 'News Director': -0.20000000298023224, 'people': -0.20000000298023224, 'bunch': -0.5, 'fan': -0.5}\n"
     ]
    }
   ],
   "source": [
    "test_df['len_insights'] = test_df['Len'].apply(entity_sentiment)"
   ]
  },
  {
   "cell_type": "code",
   "execution_count": 46,
   "metadata": {
    "scrolled": true
   },
   "outputs": [
    {
     "name": "stdout",
     "output_type": "stream",
     "text": [
      "{'engineering student': 0.800000011920929, 'KSAN': 0.800000011920929, 'Bay Area': 0.800000011920929, 'KSJO': 0.800000011920929, 'station': 0.4000000059604645, 'archies': 0.30000001192092896, '1970': 0.10000000149011612, '1971': 0.10000000149011612, 'Steve Lamont': 0.0, 'freshman': 0.0, \"Ed O'Brien\": 0.0, 'Cal Poly': 0.0, 'competitor': 0.0, 'KCPR': 0.0, 'AM station downtown': 0.0, 'photo timer': 0.0, 'KSLY': 0.0, 'CraLab': 0.0, 'Alan Stone': 0.0, 'audience': 0.0, 'Bobby Sherman': 0.0, 'DJ': -0.09999999701976776, 'hallways': -0.10000000149011612, 'staff': -0.10000000149011612, 'Graphic Arts Bldg': -0.10000000149011612, 'program plantation': -0.20000000298023224, 'dot': -0.20000000670552254, 'rap artist': -0.30000001192092896, 'QRK': -0.30000001192092896, 'heaven': -0.4000000059604645, 'DJs': -0.44999999552965164, 'beginner DJs': -0.699999988079071, 'control room': -0.699999988079071}\n",
      "{}\n",
      "{}\n",
      "{}\n",
      "{}\n",
      "{}\n",
      "{}\n",
      "{}\n",
      "{}\n",
      "{}\n",
      "{}\n",
      "{}\n",
      "{}\n",
      "{}\n"
     ]
    }
   ],
   "source": [
    "test_df['Ed'] = test_df['Ed'].astype(str)\n",
    "test_df['ed_insights'] = test_df['Ed'].apply(entity_sentiment)"
   ]
  },
  {
   "cell_type": "code",
   "execution_count": 47,
   "metadata": {
    "scrolled": true
   },
   "outputs": [
    {
     "name": "stdout",
     "output_type": "stream",
     "text": [
      "{'engineering student': 0.800000011920929, 'KSAN': 0.800000011920929, 'Bay Area': 0.800000011920929, 'KSJO': 0.800000011920929, 'station': 0.4000000059604645, 'archies': 0.30000001192092896, '1970': 0.10000000149011612, '1971': 0.10000000149011612, 'Steve Lamont': 0.0, 'freshman': 0.0, \"Ed O'Brien\": 0.0, 'Cal Poly': 0.0, 'competitor': 0.0, 'KCPR': 0.0, 'AM station downtown': 0.0, 'photo timer': 0.0, 'KSLY': 0.0, 'CraLab': 0.0, 'Alan Stone': 0.0, 'audience': 0.0, 'Bobby Sherman': 0.0, 'DJ': -0.09999999701976776, 'hallways': -0.10000000149011612, 'staff': -0.10000000149011612, 'Graphic Arts Bldg': -0.10000000149011612, 'program plantation': -0.20000000298023224, 'dot': -0.20000000670552254, 'rap artist': -0.30000001192092896, 'QRK': -0.30000001192092896, 'heaven': -0.4000000059604645, 'DJs': -0.44999999552965164, 'beginner DJs': -0.699999988079071, 'control room': -0.699999988079071}\n",
      "{}\n",
      "{}\n",
      "{}\n",
      "{}\n",
      "{}\n",
      "{}\n",
      "{}\n",
      "{}\n",
      "{}\n",
      "{}\n",
      "{}\n",
      "{}\n",
      "{}\n"
     ]
    }
   ],
   "source": [
    "test_df['Woody'] = test_df['Ed'].astype(str)\n",
    "test_df['woody_insights'] = test_df['Woody'].apply(entity_sentiment)"
   ]
  },
  {
   "cell_type": "code",
   "execution_count": 53,
   "metadata": {},
   "outputs": [],
   "source": [
    "test_df.to_csv('analyzed platform data.csv')"
   ]
  },
  {
   "cell_type": "markdown",
   "metadata": {},
   "source": [
    "## Aggregation"
   ]
  },
  {
   "cell_type": "code",
   "execution_count": 74,
   "metadata": {},
   "outputs": [],
   "source": [
    "entities_dict = {}\n",
    "dfs=[]\n",
    "def get_dfs(d):\n",
    "    global dfs\n",
    "    entities_df = pd.DataFrame.from_dict(d, orient='index').reset_index().rename({'index':'entity',0:'sentiment'},axis=1)\n",
    "    dfs.append(entities_df)\n",
    "    \n",
    "test_df['len_insights'].apply(get_dfs)\n",
    "\n",
    "entities_df = pd.concat(dfs)"
   ]
  },
  {
   "cell_type": "code",
   "execution_count": 89,
   "metadata": {},
   "outputs": [],
   "source": [
    "agg_entities_df = entities_df.groupby('entity').agg(['mean', 'count']).reset_index()\n",
    "agg_entities_df.columns = agg_entities_df.columns.droplevel(0)\n",
    "agg_entities_df.rename({'': 'entity','mean':'sentiment'},axis=1, inplace=True)\n",
    "agg_entities_df.sort_values('sentiment', ascending=False , inplace=True)\n",
    "count_entities_df = agg_entities_df.sort_values('count', ascending=False )"
   ]
  },
  {
   "cell_type": "markdown",
   "metadata": {},
   "source": [
    "# Visuals"
   ]
  },
  {
   "cell_type": "markdown",
   "metadata": {},
   "source": [
    "Top 10 Entities by sentiment"
   ]
  },
  {
   "cell_type": "code",
   "execution_count": 96,
   "metadata": {},
   "outputs": [
    {
     "data": {
      "image/png": "[encoded data removed]",
      "text/plain": [
       "<Figure size 432x288 with 1 Axes>"
      ]
     },
     "metadata": {
      "needs_background": "light"
     },
     "output_type": "display_data"
    }
   ],
   "source": [
    "plt= agg_entities_df.head(10).sort_values('sentiment').plot.barh(x='entity', y='sentiment')\n"
   ]
  },
  {
   "cell_type": "markdown",
   "metadata": {},
   "source": [
    "Top 10 Entities by count"
   ]
  },
  {
   "cell_type": "code",
   "execution_count": 98,
   "metadata": {
    "scrolled": true
   },
   "outputs": [
    {
     "data": {
      "text/plain": [
       "<matplotlib.axes._subplots.AxesSubplot at 0x7fc97c442490>"
      ]
     },
     "execution_count": 98,
     "metadata": {},
     "output_type": "execute_result"
    },
    {
     "data": {
      "image/png": "[encoded data removed]",
      "text/plain": [
       "<Figure size 432x288 with 1 Axes>"
      ]
     },
     "metadata": {
      "needs_background": "light"
     },
     "output_type": "display_data"
    }
   ],
   "source": [
    "count_entities_df.head(10).sort_values('sentiment').plot.barh(x='entity', y='sentiment')"
   ]
  },
  {
   "cell_type": "markdown",
   "metadata": {},
   "source": [
    "Least 10 Entities by sentiment"
   ]
  },
  {
   "cell_type": "code",
   "execution_count": 99,
   "metadata": {
    "scrolled": true
   },
   "outputs": [
    {
     "data": {
      "text/plain": [
       "<matplotlib.axes._subplots.AxesSubplot at 0x7fc97c4655b0>"
      ]
     },
     "execution_count": 99,
     "metadata": {},
     "output_type": "execute_result"
    },
    {
     "data": {
      "image/png": "[encoded data removed]",
      "text/plain": [
       "<Figure size 432x288 with 1 Axes>"
      ]
     },
     "metadata": {
      "needs_background": "light"
     },
     "output_type": "display_data"
    }
   ],
   "source": [
    "count_entities_df.sort_values('sentiment').head(10).plot.barh(x='entity', y='sentiment')"
   ]
  },
  {
   "cell_type": "code",
   "execution_count": null,
   "metadata": {},
   "outputs": [],
   "source": []
  }
 ],
 "metadata": {
  "kernelspec": {
   "display_name": "Python 3",
   "language": "python",
   "name": "python3"
  },
  "language_info": {
   "codemirror_mode": {
    "name": "ipython",
    "version": 3
   },
   "file_extension": ".py",
   "mimetype": "text/x-python",
   "name": "python",
   "nbconvert_exporter": "python",
   "pygments_lexer": "ipython3",
   "version": "3.8.5"
  }
 },
 "nbformat": 4,
 "nbformat_minor": 4
}
