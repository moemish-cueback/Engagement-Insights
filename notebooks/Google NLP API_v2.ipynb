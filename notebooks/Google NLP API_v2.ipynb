{
 "cells": [
  {
   "cell_type": "code",
   "execution_count": 6,
   "metadata": {},
   "outputs": [],
   "source": [
    "from google.cloud import language_v1\n",
    "import os\n",
    "import re"
   ]
  },
  {
   "cell_type": "code",
   "execution_count": 7,
   "metadata": {},
   "outputs": [],
   "source": [
    "os.environ[\"GOOGLE_APPLICATION_CREDENTIALS\"] = './cueback-app-e91f3f8c0155.json'"
   ]
  },
  {
   "cell_type": "code",
   "execution_count": 8,
   "metadata": {},
   "outputs": [],
   "source": [
    "client = language_v1.LanguageServiceClient()"
   ]
  },
  {
   "cell_type": "code",
   "execution_count": 9,
   "metadata": {},
   "outputs": [],
   "source": [
    "def extract_entity(text):\n",
    "    global client\n",
    "    document = language_v1.Document(content=text, type_=language_v1.Document.Type.PLAIN_TEXT)\n",
    "    return client.analyze_entities(request={'document': document})\n",
    "\n",
    "def extract_sentiment(text):\n",
    "    global client\n",
    "    document = language_v1.Document(content=text, type_=language_v1.Document.Type.PLAIN_TEXT)\n",
    "    return client.analyze_sentiment(request={'document': document})"
   ]
  },
  {
   "cell_type": "code",
   "execution_count": 10,
   "metadata": {},
   "outputs": [],
   "source": [
    "def entity_sentiment(text):\n",
    "    if len(text.split()) > 0:\n",
    "        r1 = extract_entity(text)\n",
    "        entities_sentiment={}\n",
    "        for e in r1.entities:\n",
    "            if str(e.type_) in ['Type.PERSON', 'Type.ORGANIZATION', 'Type.LOCATION', 'Type.DATE']:\n",
    "                sentiments = []\n",
    "                for mention in e.mentions:\n",
    "                    try:\n",
    "                        sentences = re.findall(r\"([^.]*?\"+mention.text.content+\"[^.]*\\.)\",text)  \n",
    "                        for s in sentences:\n",
    "                            sentiment = extract_sentiment(s)\n",
    "                            sentiments.append(sentiment.document_sentiment.score)\n",
    "                    except:\n",
    "                        pass\n",
    "                if len(sentiments) != 0:\n",
    "                    entities_sentiment[(e.name,str(e.type_).split(\".\")[1])] = sum(sentiments) / len(sentiments)\n",
    "        entities_sentiment = dict(sorted(entities_sentiment.items(), key=lambda item: item[1], reverse=True))\n",
    "        print(entities_sentiment)\n",
    "        return entities_sentiment"
   ]
  },
  {
   "cell_type": "markdown",
   "metadata": {},
   "source": [
    "# Aggregated Test using data from the App pilot"
   ]
  },
  {
   "cell_type": "code",
   "execution_count": 11,
   "metadata": {},
   "outputs": [],
   "source": [
    "import pandas as pd \n",
    "from tqdm import tqdm"
   ]
  },
  {
   "cell_type": "code",
   "execution_count": 12,
   "metadata": {},
   "outputs": [
    {
     "name": "stderr",
     "output_type": "stream",
     "text": [
      "/Users/mo/opt/anaconda3/lib/python3.8/site-packages/tqdm/std.py:697: FutureWarning: The Panel class is removed from pandas. Accessing it from the top-level namespace will also be removed in the next version\n",
      "  from pandas import Panel\n"
     ]
    }
   ],
   "source": [
    "tqdm.pandas()"
   ]
  },
  {
   "cell_type": "code",
   "execution_count": 13,
   "metadata": {},
   "outputs": [
    {
     "data": {
      "text/plain": [
       "Index(['Unnamed: 0', 'Title', 'Len', 'Ed', 'Woody', 'Photo'], dtype='object')"
      ]
     },
     "execution_count": 13,
     "metadata": {},
     "output_type": "execute_result"
    }
   ],
   "source": [
    "test_df = pd.read_csv('data/platform data.csv')\n",
    "test_df.columns"
   ]
  },
  {
   "cell_type": "code",
   "execution_count": 14,
   "metadata": {},
   "outputs": [
    {
     "data": {
      "text/plain": [
       "14"
      ]
     },
     "execution_count": 14,
     "metadata": {},
     "output_type": "execute_result"
    }
   ],
   "source": [
    "len(test_df)"
   ]
  },
  {
   "cell_type": "markdown",
   "metadata": {},
   "source": [
    "## Analysis"
   ]
  },
  {
   "cell_type": "code",
   "execution_count": 15,
   "metadata": {
    "scrolled": true
   },
   "outputs": [
    {
     "name": "stdout",
     "output_type": "stream",
     "text": [
      "{('DJ Trainees', 'PERSON'): 0.800000011920929, ('Steve Stagnero', 'PERSON'): 0.6000000238418579, ('1971', 'DATE'): 0.2500000037252903, ('KCPR', 'ORGANIZATION'): 0.22000000327825547, ('parts', 'LOCATION'): 0.10000000149011612, ('Format Sheets', 'PERSON'): 0.02500000037252903, ('few', 'PERSON'): 0.0, ('The Lounge', 'ORGANIZATION'): 0.0, ('DJ trainees', 'PERSON'): -0.10000000149011612, ('world', 'LOCATION'): -0.10000000149011612, ('Blood, Sweat & Tears', 'ORGANIZATION'): -0.10000000149011612, ('Beach Boys', 'ORGANIZATION'): -0.10000000149011612, ('The Who', 'ORGANIZATION'): -0.10000000149011612, ('Andy Williams', 'PERSON'): -0.10000000149011612, ('Winter Quarter', 'PERSON'): -0.20000000298023224, ('1972', 'DATE'): -0.20000000298023224, ('anyone', 'PERSON'): -0.4000000059604645}\n",
      "{('radio station', 'ORGANIZATION'): 0.10000000149011612, ('student', 'PERSON'): 0.10000000149011612, ('everyone', 'PERSON'): 0.10000000149011612, ('DJ trainees', 'PERSON'): 0.10000000149011612, ('Jim Stueck', 'PERSON'): 0.0, ('Alan Holmes', 'PERSON'): 0.0, ('studio', 'LOCATION'): 0.0, ('staff', 'PERSON'): 0.0, ('facilities', 'LOCATION'): 0.0, ('KCPR', 'ORGANIZATION'): 0.0, ('Woody Goulart', 'PERSON'): 0.0}\n",
      "{('collaborator', 'PERSON'): 0.4000000059604645, ('Anyone', 'PERSON'): 0.4000000059604645, ('Radio Hill', 'LOCATION'): 0.0, ('government', 'ORGANIZATION'): 0.0, ('station', 'ORGANIZATION'): 0.0, ('transmitter facilities', 'LOCATION'): 0.0, ('Emergency Broadcast System', 'ORGANIZATION'): 0.0, ('friends', 'PERSON'): 0.0, ('Eric Dausman', 'PERSON'): 0.0, ('Steve Ruegnitz', 'PERSON'): 0.0, ('Chevy', 'ORGANIZATION'): 0.0, ('Dean Opperman', 'PERSON'): 0.0, ('Al Lindley', 'PERSON'): 0.0, ('Steve Witten', 'PERSON'): 0.0, ('Ron Margaretten', 'PERSON'): 0.0, ('transmitter site', 'LOCATION'): -0.04000000059604645, ('Mustang Daily', 'ORGANIZATION'): -0.10000000149011612, ('KCPR', 'ORGANIZATION'): -0.17499999701976776, ('KVEC', 'ORGANIZATION'): -0.17500000074505806, ('San Luis Obispo', 'LOCATION'): -0.20000000298023224, ('town', 'LOCATION'): -0.20000000298023224, ('1969', 'DATE'): -0.20000000298023224, ('1973', 'DATE'): -0.20000000298023224, ('campus', 'LOCATION'): -0.2666666756073634, ('KSLY', 'ORGANIZATION'): -0.30000000447034836, ('studios', 'LOCATION'): -0.32499999925494194, ('studios', 'ORGANIZATION'): -0.32499999925494194, ('Jan 18th', 'DATE'): -0.3499999940395355, ('Jan', 'PERSON'): -0.36666666467984516, ('San Luis Creek', 'LOCATION'): -0.4000000059604645, ('Marsh Streets', 'LOCATION'): -0.4000000059604645, ('corner', 'LOCATION'): -0.4000000059604645, ('flooding downtown', 'LOCATION'): -0.4000000059604645, ('basement', 'LOCATION'): -0.4000000059604645, ('January 18, 1973', 'DATE'): -0.4000000059604645, ('buildings', 'LOCATION'): -0.6000000238418579, ('Graphic Arts Building', 'LOCATION'): -0.6000000238418579}\n",
      "{('friends', 'PERSON'): 0.30000000447034836, ('Everyone', 'PERSON'): 0.20000000298023224, ('reunions', 'PERSON'): 0.20000000298023224, ('alumni', 'PERSON'): 0.20000000298023224, ('group area', 'LOCATION'): 0.20000000298023224, ('Scott Cody', 'PERSON'): 0.20000000298023224, ('Cuesta Park', 'LOCATION'): 0.20000000298023224, ('Toyon', 'LOCATION'): 0.20000000298023224, ('KCPR', 'ORGANIZATION'): 0.10000000149011612, (\"Ed O'Brien\", 'PERSON'): 0.07142857249294009, ('Lou Rinaldi', 'PERSON'): 0.014285714498588018, ('Alumni', 'PERSON'): 0.0, ('many', 'PERSON'): 0.0, ('Kennedy Library', 'LOCATION'): 0.0, ('Rhino Records', 'ORGANIZATION'): 0.0, ('Maureen McGovern', 'PERSON'): 0.0, ('1970', 'DATE'): 0.0, ('studio', 'LOCATION'): -0.10000000149011612, ('classmates', 'PERSON'): -0.10000000149011612, ('home', 'LOCATION'): -0.10000000149011612, ('Rick Williams', 'PERSON'): -0.10000000149011612, ('Deborah', 'PERSON'): -0.10000000149011612, ('Kathy', 'PERSON'): -0.10000000149011612, ('Altmar', 'LOCATION'): -0.10000000149011612, ('Rick', 'PERSON'): -0.10000000149011612, ('San Luis Obispo', 'LOCATION'): -0.10000000149011612}\n",
      "{('KCPR', 'ORGANIZATION'): 0.4000000059604645, ('Poly Royal', 'PERSON'): 0.4000000059604645, ('teams', 'ORGANIZATION'): 0.0, ('1973', 'DATE'): 0.0, ('campus', 'LOCATION'): -0.30000001192092896, ('field', 'LOCATION'): -0.30000001192092896, ('Eric Dausman', 'PERSON'): -0.4000000059604645, ('studios', 'LOCATION'): -0.4000000059604645, ('staff', 'PERSON'): -0.4000000059604645}\n",
      "{('Yahoo Group', 'ORGANIZATION'): 0.0, ('KCPR Alumni Group', 'ORGANIZATION'): 0.0, ('Frank Warren', 'PERSON'): 0.0, ('2008', 'DATE'): 0.0, ('2014', 'DATE'): 0.0, ('1987', 'DATE'): 0.0, ('Royal', 'PERSON'): -0.10000000149011612, ('Poly Royal', 'PERSON'): -0.10000000149011612, ('Jon Jaeger', 'PERSON'): -0.10000000397364299, ('campus official', 'PERSON'): -0.20000000298023224, ('Scott Larsen', 'PERSON'): -0.24000000357627868}\n",
      "{('Appendix R', 'ORGANIZATION'): 0.699999988079071, ('Jim Long', 'PERSON'): 0.5249999910593033, ('audio control room', 'LOCATION'): 0.5, ('Ed Pinson', 'PERSON'): 0.5, ('1969', 'DATE'): 0.44999999552965164, ('another', 'PERSON'): 0.4000000059604645, ('Lompoc High School', 'ORGANIZATION'): 0.30000001192092896, ('San Diego State College', 'ORGANIZATION'): 0.20000000298023224, ('everyone', 'PERSON'): 0.1333333229025205, ('California State Polytechnic', 'ORGANIZATION'): 0.10000000149011612, ('California State Polytechnic College', 'ORGANIZATION'): 0.10000000149011612, ('building', 'LOCATION'): 0.10000000149011612, ('chorus room', 'LOCATION'): 0.10000000149011612, ('Most', 'PERSON'): 0.10000000149011612, ('formation', 'LOCATION'): 0.07999999523162842, ('Murray Smith', 'PERSON'): 0.033333333830038704, ('Department of English', 'ORGANIZATION'): 0.0, ('Establishment of Campus Radio', 'ORGANIZATION'): 0.0, ('instructor', 'PERSON'): 0.0, ('Dean of Applied Arts', 'PERSON'): 0.0, ('campus', 'LOCATION'): 0.0, ('student body', 'ORGANIZATION'): 0.0, ('Santa Maria', 'LOCATION'): 0.0, ('radio hill', 'LOCATION'): 0.0, ('Motorola', 'ORGANIZATION'): 0.0, ('Highway 1', 'LOCATION'): 0.0, ('June 4th', 'DATE'): 0.0, ('July 29, 1968', 'DATE'): 0.0, ('people', 'PERSON'): -0.0444444434510337, ('Federal Communications Commission', 'ORGANIZATION'): -0.05000000074505806, ('carrier', 'PERSON'): -0.05000000074505806, ('Ed Zuchelli', 'PERSON'): -0.05000000322858492, ('road', 'LOCATION'): -0.05454545400359414, ('Kennedy', 'PERSON'): -0.06000000089406967, ('President', 'PERSON'): -0.07500000298023224, ('Day', 'PERSON'): -0.08000000417232514, ('Davidson', 'PERSON'): -0.09000000432133674, ('carrier', 'ORGANIZATION'): -0.10000000149011612, ('Kennedy Library', 'LOCATION'): -0.10000000149011612, ('Class', 'PERSON'): -0.10000000149011612, ('one', 'PERSON'): -0.10000000149011612, ('wife', 'PERSON'): -0.10000000149011612, ('Healey', 'PERSON'): -0.10000000447034836, ('D', 'PERSON'): -0.12121212301832257, ('campus radio station', 'ORGANIZATION'): -0.14999999850988388, ('Audio Visual Department', 'ORGANIZATION'): -0.16000000536441802, ('1968', 'DATE'): -0.16000000536441802, ('station', 'LOCATION'): -0.1622950840191763, ('room', 'LOCATION'): -0.1647058830541723, ('committee', 'ORGANIZATION'): -0.16666666915019354, ('Jim Stueck', 'PERSON'): -0.17120000183582307, ('department', 'ORGANIZATION'): -0.1799999974668026, ('station', 'ORGANIZATION'): -0.19090909172188153, ('KCOY', 'ORGANIZATION'): -0.19166667076448599, ('Robert Nichol', 'PERSON'): -0.20000000298023224, ('campus radio committee', 'ORGANIZATION'): -0.20000000298023224, ('Some', 'PERSON'): -0.20000000298023224, ('program director', 'PERSON'): -0.20000000298023224, ('January of 1968', 'DATE'): -0.20000000298023224, ('Federal Government', 'ORGANIZATION'): -0.21428570789950235, ('rooms', 'LOCATION'): -0.22499999776482582, ('radio station', 'ORGANIZATION'): -0.2300000049173832, ('administration building', 'LOCATION'): -0.2499999962747097, ('Cal Poly', 'ORGANIZATION'): -0.24999999875823656, ('KVEC', 'ORGANIZATION'): -0.26666667064030963, ('administrators', 'PERSON'): -0.26666667436559993, ('administrator', 'PERSON'): -0.2750000087544322, ('students', 'PERSON'): -0.2904761940950439, ('Speech Department', 'ORGANIZATION'): -0.30000000447034836, ('Alan Holmes', 'PERSON'): -0.30000001192092896, ('administration', 'ORGANIZATION'): -0.4000000034769376, ('Graphic Arts', 'ORGANIZATION'): -0.4000000059604645, ('Winter', 'ORGANIZATION'): -0.4000000059604645, ('Gary Fernstrom', 'PERSON'): -0.41250000055879354, ('station manager', 'PERSON'): -0.43333334227403003, ('staff', 'PERSON'): -0.4900000013411045, ('departments', 'ORGANIZATION'): -0.5, ('buildings', 'LOCATION'): -0.5, ('college campus', 'LOCATION'): -0.5, ('company', 'ORGANIZATION'): -0.5111111195551025, ('no one', 'PERSON'): -0.5200000077486038, ('office', 'ORGANIZATION'): -0.6000000238418579, ('friends', 'PERSON'): -0.6000000238418579, ('phone company', 'ORGANIZATION'): -0.6500000059604645, ('someone', 'PERSON'): -0.699999988079071, ('Rod Allen', 'PERSON'): -0.800000011920929}\n"
     ]
    },
    {
     "name": "stdout",
     "output_type": "stream",
     "text": [
      "{('class D stations', 'ORGANIZATION'): 0.4000000059604645, ('1966', 'DATE'): 0.20000000298023224, ('FCC', 'ORGANIZATION'): 0.15000000223517418, ('factory', 'LOCATION'): 0.10000000149011612, ('Marty Hijmans', 'PERSON'): 0.10000000149011612, ('facilities', 'LOCATION'): 0.0, ('band', 'ORGANIZATION'): 0.0, ('anyone', 'PERSON'): 0.0, ('AC', 'ORGANIZATION'): 0.0, ('Electrical Engineering Department', 'ORGANIZATION'): 0.0, ('October 27, 1969', 'DATE'): 0.0, ('July 14, 1970', 'DATE'): 0.0, ('KCPR', 'ORGANIZATION'): -0.023809525910969617, ('transmitter site', 'LOCATION'): -0.033333333830038704, ('Visual Electronics', 'ORGANIZATION'): -0.033333336313565574, ('Cal Poly', 'ORGANIZATION'): -0.05000000447034836, ('two', 'PERSON'): -0.05000000447034836, (\"Ed O'Brien\", 'PERSON'): -0.09000000357627869, ('Len Filomeo', 'PERSON'): -0.10000000149011612, ('stations', 'ORGANIZATION'): -0.10000000149011612, ('Jampro JA-1BE', 'ORGANIZATION'): -0.10000000149011612, ('studio', 'ORGANIZATION'): -0.10000000149011612, ('studio', 'LOCATION'): -0.10000000149011612, ('DC', 'LOCATION'): -0.1666666716337204, ('places', 'LOCATION'): -0.20000000298023224, ('station', 'LOCATION'): -0.20000000298023224, ('station', 'ORGANIZATION'): -0.20000000298023224, ('Master Control room', 'LOCATION'): -0.20000000298023224, ('October 9, 1969', 'DATE'): -0.20000000298023224, ('1970', 'DATE'): -0.23333334177732468, ('transformer', 'PERSON'): -0.30000001192092896, ('Eric', 'PERSON'): -0.30000001192092896, ('Speech Department', 'ORGANIZATION'): -0.30000001192092896, ('center', 'LOCATION'): -0.30000001192092896, ('Acopian', 'PERSON'): -0.30000001192092896, ('operator', 'PERSON'): -0.4000000059604645, ('radio stations', 'ORGANIZATION'): -0.4000000059604645, ('no one', 'PERSON'): -0.5, ('Jim Long', 'PERSON'): -0.5, ('The New York Times', 'ORGANIZATION'): -0.6000000238418579, ('department chairman', 'PERSON'): -0.6000000238418579, ('secretary', 'PERSON'): -0.6000000238418579, ('March of 1970', 'DATE'): -0.6000000238418579, ('FM radio stations', 'ORGANIZATION'): -0.800000011920929}\n",
      "{('master control room', 'LOCATION'): 0.30000001192092896, ('radio station', 'ORGANIZATION'): 0.20000000298023224, ('Bill Gurzi', 'PERSON'): 0.15000000409781933, ('station', 'ORGANIZATION'): 0.15000000223517418, ('1971', 'DATE'): 0.13333333532015482, ('Room 202', 'LOCATION'): 0.10000000149011612, ('studios', 'LOCATION'): 0.10000000149011612, ('offices', 'LOCATION'): 0.10000000149011612, ('Master Control Room', 'LOCATION'): 0.10000000149011612, ('Craig Hines', 'PERSON'): 0.10000000149011612, ('KCPR', 'ORGANIZATION'): 0.06666667014360428, ('KSLY', 'ORGANIZATION'): 0.06666667014360428, ('William R. Gurzi', 'PERSON'): 0.0, ('studio', 'ORGANIZATION'): -0.05000000074505806, ('Room 201', 'LOCATION'): -0.10000000149011612, ('1970', 'DATE'): -0.10000000149011612, ('1973', 'DATE'): -0.20000000298023224}\n",
      "{(\"Ed O'Brien\", 'PERSON'): 0.8999999761581421, ('campus carpentry department', 'ORGANIZATION'): 0.8999999761581421, ('Sparta', 'LOCATION'): 0.1600000023841858, ('KCPR', 'ORGANIZATION'): 0.13999999761581422, ('Marty Hijmans', 'PERSON'): 0.0}\n",
      "{('unit', 'ORGANIZATION'): 0.20000000298023224, ('track', 'LOCATION'): 0.20000000298023224, ('Rek-O-Cut', 'PERSON'): 0.10000000149011612, ('turntables', 'PERSON'): 0.033333333830038704, ('Sparta', 'LOCATION'): 0.0, ('record library', 'LOCATION'): -0.10000000149011612, ('station', 'ORGANIZATION'): -0.15000000223517418, ('record grove', 'LOCATION'): -0.20000000298023224, ('cue speaker', 'PERSON'): -0.4000000059604645}\n",
      "{('news department', 'ORGANIZATION'): 0.30000001192092896, ('studio', 'LOCATION'): 0.10000000149011612, ('caller', 'PERSON'): 0.049999999813735485, ('DJ', 'PERSON'): 0.0, ('Sparta', 'LOCATION'): -0.05000000074505806, ('callers', 'PERSON'): -0.10000000149011612, ('people', 'PERSON'): -0.10000000149011612, ('Production Room', 'LOCATION'): -0.20000000298023224, ('Ampex', 'ORGANIZATION'): -0.20000000298023224, ('each other', 'PERSON'): -0.20000000298023224, ('station', 'ORGANIZATION'): -0.20000000670552254, ('station', 'LOCATION'): -0.2666666731238365, ('radio stations', 'ORGANIZATION'): -0.4000000059604645, ('someone', 'PERSON'): -0.4000000059604645}\n",
      "{('standing wave bridges', 'LOCATION'): 0.800000011920929, ('Studio B', 'ORGANIZATION'): 0.699999988079071, ('Radio Hill', 'LOCATION'): 0.4000000059604645, ('Pacific Bell', 'ORGANIZATION'): 0.4000000059604645, ('Dickey', 'PERSON'): 0.3500000089406967, ('engineering shop', 'ORGANIZATION'): 0.30000001192092896, ('father-in-law', 'PERSON'): 0.30000001192092896, ('Sandercock Street', 'LOCATION'): 0.30000001192092896, ('Electrical Engineering Department', 'ORGANIZATION'): 0.30000001192092896, ('thousands', 'PERSON'): 0.30000001192092896, ('1973', 'DATE'): 0.30000001192092896, ('home', 'LOCATION'): 0.26666667064030963, ('KKDJ', 'ORGANIZATION'): 0.20000000670552254, ('Steve Ruegnitz', 'PERSON'): 0.20000000670552254, ('Poly Royal', 'PERSON'): 0.20000000298023224, ('KATY-FM', 'PERSON'): 0.17999999821186066, ('RG-218', 'LOCATION'): 0.15000000099341074, ('V', 'LOCATION'): 0.12222222321563297, ('tower', 'LOCATION'): 0.10000000149011612, ('plumber', 'PERSON'): 0.10000000149011612, ('KVEC', 'ORGANIZATION'): 0.10000000149011612, ('Radio Shack', 'ORGANIZATION'): 0.10000000149011612, ('KIIS', 'ORGANIZATION'): 0.10000000149011612, ('Mt', 'LOCATION'): 0.10000000149011612, ('AC', 'ORGANIZATION'): 0.10000000149011612, ('Eric Dausman', 'PERSON'): 0.08108108027561291, ('KCPR', 'ORGANIZATION'): 0.06363636322996834, ('Rick Smith', 'PERSON'): 0.05714285799435207, ('1972', 'DATE'): 0.05000000074505806, ('FM', 'ORGANIZATION'): 0.036363635550845756, ('friends', 'PERSON'): 0.033333333830038704, ('2000', 'DATE'): 0.033333333830038704, ('Jampro', 'ORGANIZATION'): 0.027272729033773594, ('Harold Hallikainen', 'PERSON'): 0.020000001415610313, ('KATY', 'PERSON'): 0.019999997317790986, ('KATY', 'LOCATION'): 0.019999997317790986, ('studios', 'LOCATION'): 0.0, ('Bernie Wise', 'PERSON'): 0.0, ('hometown', 'LOCATION'): 0.0, ('Sparta', 'LOCATION'): 0.0, ('staff', 'PERSON'): 0.0, ('Cal Poly', 'ORGANIZATION'): 0.0, ('Bernie Box', 'PERSON'): 0.0, ('plumbing shop', 'LOCATION'): 0.0, ('campus', 'LOCATION'): 0.0, ('Sparta Electronics', 'ORGANIZATION'): 0.0, ('Gates RDC', 'ORGANIZATION'): 0.0, ('May of 1974', 'DATE'): 0.0, ('May 29th at 11 AM.', 'DATE'): 0.0, ('ITA', 'ORGANIZATION'): -0.008333334078391394, ('couple', 'PERSON'): -0.033333336313565574, ('John Grandy', 'PERSON'): -0.05000000074505806, ('solder', 'PERSON'): -0.05000000074505806, ('Monterey Street', 'LOCATION'): -0.06666667014360428, ('nobody', 'PERSON'): -0.09999999403953552, ('building', 'LOCATION'): -0.10000000149011612, ('floor', 'LOCATION'): -0.10000000149011612, ('Duane Hill', 'PERSON'): -0.10000000149011612, ('KSLY', 'ORGANIZATION'): -0.10000000149011612, ('print shop', 'LOCATION'): -0.10000000149011612, ('hall', 'LOCATION'): -0.10000000149011612, ('hallway', 'LOCATION'): -0.10000000149011612, ('area', 'LOCATION'): -0.10000000149011612, ('Jampro Antenna Company', 'ORGANIZATION'): -0.10000000149011612, ('operator', 'PERSON'): -0.10000000149011612, ('transmitter building', 'LOCATION'): -0.10000000149011612, ('Graphics Arts', 'ORGANIZATION'): -0.10000000149011612, ('Stanford', 'ORGANIZATION'): -0.10000000149011612, ('Sacramento', 'LOCATION'): -0.10000000149011612, ('DJs', 'PERSON'): -0.10000000149011612, ('Class D', 'ORGANIZATION'): -0.10000000149011612, ('Homer Odem', 'PERSON'): -0.10243902591670431, ('shop', 'LOCATION'): -0.12499999441206455, ('RCA', 'ORGANIZATION'): -0.15000000223517418, ('transmission line', 'LOCATION'): -0.15714285948446818, ('both', 'PERSON'): -0.1666666716337204, ('Len Filomeo', 'PERSON'): -0.20000000298023224, ('KUNA-FM', 'ORGANIZATION'): -0.20000000298023224, ('transmitter cabinet', 'ORGANIZATION'): -0.20000000298023224, ('base', 'LOCATION'): -0.20000000298023224, ('Wilson', 'PERSON'): -0.20000000298023224, ('dealership', 'LOCATION'): -0.20000000670552254, ('VW', 'ORGANIZATION'): -0.20000000670552254, ('station', 'LOCATION'): -0.21666667237877846, ('station', 'ORGANIZATION'): -0.21666667237877846, ('some', 'PERSON'): -0.22500000055879354, ('parts', 'LOCATION'): -0.30000000074505806, ('Bauer', 'ORGANIZATION'): -0.3000000019868215, ('Bauer', 'PERSON'): -0.3000000019868215, ('students', 'PERSON'): -0.30000000447034836, ('location', 'LOCATION'): -0.30000001192092896, ('KZSU', 'ORGANIZATION'): -0.3999999947845936, ('somewhere', 'LOCATION'): -0.4000000059604645, ('office', 'ORGANIZATION'): -0.4000000134110451, ('anywhere', 'LOCATION'): -0.5, ('room', 'LOCATION'): -0.5, ('engineers', 'PERSON'): -0.5, ('San Luis Obispo', 'LOCATION'): -0.5, ('station manager', 'PERSON'): -0.6000000238418579, ('facilities', 'LOCATION'): -0.699999988079071, ('Glenn Daly', 'PERSON'): -0.699999988079071, ('house', 'LOCATION'): -0.699999988079071}\n"
     ]
    },
    {
     "name": "stdout",
     "output_type": "stream",
     "text": [
      "{('record library', 'LOCATION'): 0.8999999761581421, ('Steve Greenberg', 'PERSON'): 0.5, ('Gotham City', 'LOCATION'): 0.5, ('studio', 'LOCATION'): 0.3500000014901161, ('home', 'LOCATION'): 0.3333333383003871, ('professionals', 'PERSON'): 0.30000001192092896, (\"Ed O'Brien\", 'PERSON'): 0.27142857547317234, ('Al Beckner', 'PERSON'): 0.2500000037252903, ('studios', 'LOCATION'): 0.20000000298023224, ('stations production library', 'LOCATION'): 0.20000000298023224, ('suspects', 'PERSON'): 0.20000000298023224, ('GrassSmoker', 'ORGANIZATION'): 0.1666666716337204, ('spot', 'LOCATION'): 0.13000000417232513, ('Eric Dausman', 'PERSON'): 0.10000000397364299, ('station', 'LOCATION'): 0.10000000149011612, ('station', 'ORGANIZATION'): 0.10000000149011612, ('The Commissioner', 'PERSON'): 0.10000000149011612, ('KCPR', 'ORGANIZATION'): 0.0899999976158142, ('Each', 'PERSON'): 0.0, ('Kung-Fu', 'LOCATION'): 0.0, ('Cheryl Wright', 'PERSON'): 0.0, ('characters', 'PERSON'): 0.0, ('each other', 'PERSON'): 0.0, ('radio station', 'ORGANIZATION'): 0.0, ('Morgana Hill', 'PERSON'): 0.0, ('Lt. Guru', 'PERSON'): 0.0, ('1960', 'DATE'): 0.0, ('May 29th, 1974', 'DATE'): 0.0, ('News Director', 'PERSON'): -0.20000000298023224, ('people', 'PERSON'): -0.20000000298023224, ('bunch', 'PERSON'): -0.5, ('fan', 'PERSON'): -0.5}\n"
     ]
    }
   ],
   "source": [
    "test_df['len_insights'] = test_df['Len'].apply(entity_sentiment)"
   ]
  },
  {
   "cell_type": "code",
   "execution_count": null,
   "metadata": {
    "scrolled": true
   },
   "outputs": [],
   "source": [
    "test_df['Ed'] = test_df['Ed'].astype(str)\n",
    "test_df['ed_insights'] = test_df['Ed'].apply(entity_sentiment)"
   ]
  },
  {
   "cell_type": "code",
   "execution_count": null,
   "metadata": {
    "scrolled": true
   },
   "outputs": [],
   "source": [
    "test_df['Woody'] = test_df['Ed'].astype(str)\n",
    "test_df['woody_insights'] = test_df['Woody'].apply(entity_sentiment)"
   ]
  },
  {
   "cell_type": "code",
   "execution_count": null,
   "metadata": {},
   "outputs": [],
   "source": [
    "test_df.to_csv('analyzed platform data.csv')"
   ]
  },
  {
   "cell_type": "markdown",
   "metadata": {},
   "source": [
    "## Aggregation"
   ]
  },
  {
   "cell_type": "code",
   "execution_count": 37,
   "metadata": {},
   "outputs": [],
   "source": [
    "entities_dict = {}\n",
    "dfs=[]\n",
    "def get_dfs(d):\n",
    "    global dfs\n",
    "    entities_df = pd.DataFrame.from_dict(d, orient='index').reset_index().rename({'index':'entity',0:'sentiment'},axis=1)\n",
    "    dfs.append(entities_df)\n",
    "    \n",
    "test_df['len_insights'].apply(get_dfs)\n",
    "\n",
    "entities_df = pd.concat(dfs)"
   ]
  },
  {
   "cell_type": "code",
   "execution_count": 38,
   "metadata": {},
   "outputs": [],
   "source": [
    "entities_df['entity_type'] = entities_df['entity'].apply(lambda x: x[1])\n",
    "entities_df['entity'] = entities_df['entity'].apply(lambda x: x[0])"
   ]
  },
  {
   "cell_type": "code",
   "execution_count": 40,
   "metadata": {
    "collapsed": true
   },
   "outputs": [
    {
     "data": {
      "text/html": [
       "<div>\n",
       "<style scoped>\n",
       "    .dataframe tbody tr th:only-of-type {\n",
       "        vertical-align: middle;\n",
       "    }\n",
       "\n",
       "    .dataframe tbody tr th {\n",
       "        vertical-align: top;\n",
       "    }\n",
       "\n",
       "    .dataframe thead th {\n",
       "        text-align: right;\n",
       "    }\n",
       "</style>\n",
       "<table border=\"1\" class=\"dataframe\">\n",
       "  <thead>\n",
       "    <tr style=\"text-align: right;\">\n",
       "      <th></th>\n",
       "      <th></th>\n",
       "      <th></th>\n",
       "      <th>mean</th>\n",
       "      <th>count</th>\n",
       "    </tr>\n",
       "  </thead>\n",
       "  <tbody>\n",
       "    <tr>\n",
       "      <th>0</th>\n",
       "      <td>1960</td>\n",
       "      <td>DATE</td>\n",
       "      <td>0.000000</td>\n",
       "      <td>1</td>\n",
       "    </tr>\n",
       "    <tr>\n",
       "      <th>1</th>\n",
       "      <td>1966</td>\n",
       "      <td>DATE</td>\n",
       "      <td>0.200000</td>\n",
       "      <td>1</td>\n",
       "    </tr>\n",
       "    <tr>\n",
       "      <th>2</th>\n",
       "      <td>1968</td>\n",
       "      <td>DATE</td>\n",
       "      <td>-0.160000</td>\n",
       "      <td>1</td>\n",
       "    </tr>\n",
       "    <tr>\n",
       "      <th>3</th>\n",
       "      <td>1969</td>\n",
       "      <td>DATE</td>\n",
       "      <td>0.125000</td>\n",
       "      <td>2</td>\n",
       "    </tr>\n",
       "    <tr>\n",
       "      <th>4</th>\n",
       "      <td>1970</td>\n",
       "      <td>DATE</td>\n",
       "      <td>-0.111111</td>\n",
       "      <td>3</td>\n",
       "    </tr>\n",
       "    <tr>\n",
       "      <th>...</th>\n",
       "      <td>...</td>\n",
       "      <td>...</td>\n",
       "      <td>...</td>\n",
       "      <td>...</td>\n",
       "    </tr>\n",
       "    <tr>\n",
       "      <th>313</th>\n",
       "      <td>turntables</td>\n",
       "      <td>PERSON</td>\n",
       "      <td>0.033333</td>\n",
       "      <td>1</td>\n",
       "    </tr>\n",
       "    <tr>\n",
       "      <th>314</th>\n",
       "      <td>two</td>\n",
       "      <td>PERSON</td>\n",
       "      <td>-0.050000</td>\n",
       "      <td>1</td>\n",
       "    </tr>\n",
       "    <tr>\n",
       "      <th>315</th>\n",
       "      <td>unit</td>\n",
       "      <td>ORGANIZATION</td>\n",
       "      <td>0.200000</td>\n",
       "      <td>1</td>\n",
       "    </tr>\n",
       "    <tr>\n",
       "      <th>316</th>\n",
       "      <td>wife</td>\n",
       "      <td>PERSON</td>\n",
       "      <td>-0.100000</td>\n",
       "      <td>1</td>\n",
       "    </tr>\n",
       "    <tr>\n",
       "      <th>317</th>\n",
       "      <td>world</td>\n",
       "      <td>LOCATION</td>\n",
       "      <td>-0.100000</td>\n",
       "      <td>1</td>\n",
       "    </tr>\n",
       "  </tbody>\n",
       "</table>\n",
       "<p>318 rows × 4 columns</p>\n",
       "</div>"
      ],
      "text/plain": [
       "                                   mean  count\n",
       "0          1960          DATE  0.000000      1\n",
       "1          1966          DATE  0.200000      1\n",
       "2          1968          DATE -0.160000      1\n",
       "3          1969          DATE  0.125000      2\n",
       "4          1970          DATE -0.111111      3\n",
       "..          ...           ...       ...    ...\n",
       "313  turntables        PERSON  0.033333      1\n",
       "314         two        PERSON -0.050000      1\n",
       "315        unit  ORGANIZATION  0.200000      1\n",
       "316        wife        PERSON -0.100000      1\n",
       "317       world      LOCATION -0.100000      1\n",
       "\n",
       "[318 rows x 4 columns]"
      ]
     },
     "execution_count": 40,
     "metadata": {},
     "output_type": "execute_result"
    }
   ],
   "source": [
    "agg_entities_df = entities_df.groupby(['entity','entity_type']).agg(['mean', 'count']).reset_index()\n",
    "agg_entities_df.columns = agg_entities_df.columns.droplevel(0)\n",
    "agg_entities_df.columns = ['entity','entity_type','sentiment', 'count']\n",
    "agg_entities_df.sort_values('sentiment', ascending=False , inplace=True)\n",
    "count_entities_df = agg_entities_df.sort_values('count', ascending=False )"
   ]
  },
  {
   "cell_type": "code",
   "execution_count": 43,
   "metadata": {},
   "outputs": [],
   "source": [
    "agg_entities_df.to_csv('aggregated entities in platform data.csv')"
   ]
  },
  {
   "cell_type": "code",
   "execution_count": 44,
   "metadata": {},
   "outputs": [],
   "source": [
    "agg_entities_df[agg_entities_df['entity_type']==\"PERSON\"].to_csv('people in platform data.csv')"
   ]
  },
  {
   "cell_type": "markdown",
   "metadata": {},
   "source": [
    "# Visuals"
   ]
  },
  {
   "cell_type": "markdown",
   "metadata": {},
   "source": [
    "Top 10 Entities by sentiment"
   ]
  },
  {
   "cell_type": "code",
   "execution_count": 27,
   "metadata": {},
   "outputs": [
    {
     "data": {
      "image/png": "[encoded data removed]",
      "text/plain": [
       "<Figure size 432x288 with 1 Axes>"
      ]
     },
     "metadata": {
      "needs_background": "light"
     },
     "output_type": "display_data"
    }
   ],
   "source": [
    "plt= agg_entities_df.head(10).sort_values('sentiment').plot.barh(x='entity', y='sentiment')\n"
   ]
  },
  {
   "cell_type": "markdown",
   "metadata": {},
   "source": [
    "Top 10 Entities by count"
   ]
  },
  {
   "cell_type": "code",
   "execution_count": 28,
   "metadata": {
    "scrolled": true
   },
   "outputs": [
    {
     "data": {
      "text/plain": [
       "<matplotlib.axes._subplots.AxesSubplot at 0x7f998c2866a0>"
      ]
     },
     "execution_count": 28,
     "metadata": {},
     "output_type": "execute_result"
    },
    {
     "data": {
      "image/png": "[encoded data removed]",
      "text/plain": [
       "<Figure size 432x288 with 1 Axes>"
      ]
     },
     "metadata": {
      "needs_background": "light"
     },
     "output_type": "display_data"
    }
   ],
   "source": [
    "count_entities_df.head(10).sort_values('sentiment').plot.barh(x='entity', y='sentiment')"
   ]
  },
  {
   "cell_type": "markdown",
   "metadata": {},
   "source": [
    "Least 10 Entities by sentiment"
   ]
  },
  {
   "cell_type": "code",
   "execution_count": 29,
   "metadata": {
    "scrolled": true
   },
   "outputs": [
    {
     "data": {
      "text/plain": [
       "<matplotlib.axes._subplots.AxesSubplot at 0x7f9990aaf6d0>"
      ]
     },
     "execution_count": 29,
     "metadata": {},
     "output_type": "execute_result"
    },
    {
     "data": {
      "image/png": "[encoded data removed]",
      "text/plain": [
       "<Figure size 432x288 with 1 Axes>"
      ]
     },
     "metadata": {
      "needs_background": "light"
     },
     "output_type": "display_data"
    }
   ],
   "source": [
    "count_entities_df.sort_values('sentiment').head(10).plot.barh(x='entity', y='sentiment')"
   ]
  },
  {
   "cell_type": "code",
   "execution_count": null,
   "metadata": {},
   "outputs": [],
   "source": []
  }
 ],
 "metadata": {
  "kernelspec": {
   "display_name": "Python 3",
   "language": "python",
   "name": "python3"
  },
  "language_info": {
   "codemirror_mode": {
    "name": "ipython",
    "version": 3
   },
   "file_extension": ".py",
   "mimetype": "text/x-python",
   "name": "python",
   "nbconvert_exporter": "python",
   "pygments_lexer": "ipython3",
   "version": "3.8.5"
  }
 },
 "nbformat": 4,
 "nbformat_minor": 4
}
