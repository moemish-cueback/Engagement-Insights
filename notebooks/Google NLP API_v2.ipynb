{
 "cells": [
  {
   "cell_type": "code",
   "execution_count": 1,
   "metadata": {},
   "outputs": [],
   "source": [
    "from google.cloud import language_v1\n",
    "import os\n",
    "import re"
   ]
  },
  {
   "cell_type": "code",
   "execution_count": 2,
   "metadata": {},
   "outputs": [],
   "source": [
    "os.environ[\"GOOGLE_APPLICATION_CREDENTIALS\"] = './cueback-app-e91f3f8c0155.json'"
   ]
  },
  {
   "cell_type": "code",
   "execution_count": 3,
   "metadata": {},
   "outputs": [],
   "source": [
    "client = language_v1.LanguageServiceClient()"
   ]
  },
  {
   "cell_type": "code",
   "execution_count": 4,
   "metadata": {},
   "outputs": [],
   "source": [
    "def extract_entity(text):\n",
    "    global client\n",
    "    document = language_v1.Document(content=text, type_=language_v1.Document.Type.PLAIN_TEXT)\n",
    "    return client.analyze_entities(request={'document': document})\n",
    "\n",
    "def extract_sentiment(text):\n",
    "    global client\n",
    "    document = language_v1.Document(content=text, type_=language_v1.Document.Type.PLAIN_TEXT)\n",
    "    return client.analyze_sentiment(request={'document': document})"
   ]
  },
  {
   "cell_type": "code",
   "execution_count": 10,
   "metadata": {},
   "outputs": [],
   "source": [
    "def entity_sentiment(text):\n",
    "    if len(text.split()) > 0:\n",
    "        r1 = extract_entity(text)\n",
    "        entities_sentiment={}\n",
    "        for e in r1.entities:\n",
    "            #print(e)\n",
    "            if str(e.type_) in ['Type.PERSON', 'Type.ORGANIZATION', 'Type.LOCATION', 'Type.DATE']:\n",
    "                sentiments = []\n",
    "                for mention in e.mentions:\n",
    "                    #print(str(mention.type_))\n",
    "                    if str(mention.type_) == \"Type.PROPER\":\n",
    "                        try:\n",
    "                            sentences = re.findall(r\"([^.]*?\"+mention.text.content+\"[^.]*\\.)\",text)  \n",
    "                            for s in sentences:\n",
    "                                sentiment = extract_sentiment(s)\n",
    "                                sentiments.append(sentiment.document_sentiment.score)\n",
    "                        except:\n",
    "                            pass\n",
    "                if len(sentiments) != 0:\n",
    "                    entities_sentiment[(e.name.lower(),str(e.type_).split(\".\")[1])] = sum(sentiments) / len(sentiments)\n",
    "        entities_sentiment = dict(sorted(entities_sentiment.items(), key=lambda item: item[1], reverse=True))\n",
    "        print(entities_sentiment)\n",
    "        return entities_sentiment"
   ]
  },
  {
   "cell_type": "markdown",
   "metadata": {},
   "source": [
    "# Aggregated Test using data from the App pilot"
   ]
  },
  {
   "cell_type": "code",
   "execution_count": 11,
   "metadata": {},
   "outputs": [],
   "source": [
    "import pandas as pd \n",
    "from tqdm import tqdm"
   ]
  },
  {
   "cell_type": "code",
   "execution_count": 12,
   "metadata": {},
   "outputs": [],
   "source": [
    "tqdm.pandas()"
   ]
  },
  {
   "cell_type": "code",
   "execution_count": 13,
   "metadata": {},
   "outputs": [
    {
     "data": {
      "text/plain": [
       "Index(['Unnamed: 0', 'Title', 'Len', 'Ed', 'Woody', 'Photo'], dtype='object')"
      ]
     },
     "execution_count": 13,
     "metadata": {},
     "output_type": "execute_result"
    }
   ],
   "source": [
    "test_df = pd.read_csv('data/platform data.csv')\n",
    "test_df.columns"
   ]
  },
  {
   "cell_type": "code",
   "execution_count": 14,
   "metadata": {},
   "outputs": [
    {
     "data": {
      "text/plain": [
       "14"
      ]
     },
     "execution_count": 14,
     "metadata": {},
     "output_type": "execute_result"
    }
   ],
   "source": [
    "len(test_df)"
   ]
  },
  {
   "cell_type": "markdown",
   "metadata": {},
   "source": [
    "## Analysis"
   ]
  },
  {
   "cell_type": "code",
   "execution_count": 15,
   "metadata": {
    "scrolled": true
   },
   "outputs": [
    {
     "name": "stdout",
     "output_type": "stream",
     "text": [
      "{('steve stagnero', 'PERSON'): 0.6000000238418579, ('kcpr', 'ORGANIZATION'): 0.22000000327825547, ('the lounge', 'ORGANIZATION'): 0.0, ('blood, sweat & tears', 'ORGANIZATION'): -0.10000000149011612, ('beach boys', 'ORGANIZATION'): -0.10000000149011612, ('the who', 'ORGANIZATION'): -0.10000000149011612, ('andy williams', 'PERSON'): -0.10000000149011612, ('winter quarter', 'PERSON'): -0.20000000298023224}\n",
      "{('jim stueck', 'PERSON'): 0.0, ('alan holmes', 'PERSON'): 0.0, ('kcpr', 'ORGANIZATION'): 0.0, ('woody goulart', 'PERSON'): 0.0}\n",
      "{('radio hill', 'LOCATION'): 0.0, ('emergency broadcast system', 'ORGANIZATION'): 0.0, ('eric dausman', 'PERSON'): 0.0, ('steve ruegnitz', 'PERSON'): 0.0, ('chevy', 'ORGANIZATION'): 0.0, ('dean opperman', 'PERSON'): 0.0, ('al lindley', 'PERSON'): 0.0, ('steve witten', 'PERSON'): 0.0, ('ron margaretten', 'PERSON'): 0.0, ('mustang daily', 'ORGANIZATION'): -0.10000000149011612, ('kcpr', 'ORGANIZATION'): -0.17499999701976776, ('kvec', 'ORGANIZATION'): -0.17500000074505806, ('san luis obispo', 'LOCATION'): -0.20000000298023224, ('ksly', 'ORGANIZATION'): -0.30000000447034836, ('jan', 'PERSON'): -0.36666666467984516, ('san luis creek', 'LOCATION'): -0.4000000059604645, ('marsh streets', 'LOCATION'): -0.4000000059604645, ('graphic arts building', 'LOCATION'): -0.6000000238418579}\n",
      "{('scott cody', 'PERSON'): 0.20000000298023224, ('cuesta park', 'LOCATION'): 0.20000000298023224, ('toyon', 'LOCATION'): 0.20000000298023224, ('kcpr', 'ORGANIZATION'): 0.10000000149011612, (\"ed o'brien\", 'PERSON'): 0.07142857249294009, ('lou rinaldi', 'PERSON'): 0.014285714498588018, ('kennedy library', 'LOCATION'): 0.0, ('rhino records', 'ORGANIZATION'): 0.0, ('maureen mcgovern', 'PERSON'): 0.0, ('rick williams', 'PERSON'): -0.10000000149011612, ('deborah', 'PERSON'): -0.10000000149011612, ('kathy', 'PERSON'): -0.10000000149011612, ('altmar', 'LOCATION'): -0.10000000149011612, ('rick', 'PERSON'): -0.10000000149011612, ('san luis obispo', 'LOCATION'): -0.10000000149011612}\n",
      "{('kcpr', 'ORGANIZATION'): 0.4000000059604645, ('poly royal', 'PERSON'): 0.4000000059604645, ('eric dausman', 'PERSON'): -0.4000000059604645}\n",
      "{('yahoo group', 'ORGANIZATION'): 0.0, ('kcpr alumni group', 'ORGANIZATION'): 0.0, ('frank warren', 'PERSON'): 0.0, ('poly royal', 'PERSON'): -0.10000000149011612, ('jon jaeger', 'PERSON'): -0.10000000397364299, ('scott larsen', 'PERSON'): -0.20000000298023224}\n",
      "{('ed pinson', 'PERSON'): 0.5, ('little theater', 'LOCATION'): 0.3333333333333333, ('lompoc high school', 'ORGANIZATION'): 0.30000001192092896, ('san diego state college', 'ORGANIZATION'): 0.20000000298023224, ('james d. stueck', 'PERSON'): 0.10000000149011612, ('murray smith', 'PERSON'): 0.033333333830038704, ('california state polytechnic college', 'ORGANIZATION'): 0.0, ('establishment of campus radio', 'ORGANIZATION'): 0.0, ('kcoy', 'ORGANIZATION'): 0.0, ('mr. johnson', 'PERSON'): 0.0, ('motorola', 'ORGANIZATION'): 0.0, ('highway 1', 'LOCATION'): 0.0, ('kennedy', 'PERSON'): -0.10000000149011612, ('kennedy library', 'LOCATION'): -0.10000000149011612, ('music department', 'ORGANIZATION'): -0.10000000149011612, ('robert seibly', 'PERSON'): -0.10000000149011612, ('jim stueck', 'PERSON'): -0.1637860099658554, ('administration building', 'LOCATION'): -0.20000000298023224, ('dean of applied arts', 'PERSON'): -0.23333334177732468, ('dean of applied arts', 'ORGANIZATION'): -0.2600000098347664, ('kvec', 'ORGANIZATION'): -0.26666667064030963, ('federal government', 'ORGANIZATION'): -0.34444444212648606, ('graphic arts', 'ORGANIZATION'): -0.4000000059604645, ('winter', 'ORGANIZATION'): -0.4000000059604645, ('journalism department', 'ORGANIZATION'): -0.5, ('av', 'ORGANIZATION'): -0.800000011920929, ('rod allen', 'PERSON'): -0.800000011920929}\n",
      "{('fcc', 'ORGANIZATION'): 0.15000000223517418, ('marty hijmans', 'PERSON'): 0.10000000149011612, ('ac', 'ORGANIZATION'): 0.0, ('electrical engineering department', 'ORGANIZATION'): 0.0, ('kcpr', 'ORGANIZATION'): -0.023809525910969617, ('visual electronics', 'ORGANIZATION'): -0.033333336313565574, ('cal poly', 'ORGANIZATION'): -0.05000000447034836, (\"ed o'brien\", 'PERSON'): -0.09000000357627869, ('len filomeo', 'PERSON'): -0.10000000149011612, ('jampro ja-1be', 'ORGANIZATION'): -0.10000000149011612, ('dc', 'LOCATION'): -0.1666666716337204, ('eric', 'PERSON'): -0.30000001192092896, ('speech department', 'ORGANIZATION'): -0.30000001192092896, ('acopian', 'PERSON'): -0.30000001192092896, ('jim long', 'PERSON'): -0.5, ('the new york times', 'ORGANIZATION'): -0.6000000238418579}\n",
      "{('bill gurzi', 'PERSON'): 0.1666666716337204, ('room 202', 'LOCATION'): 0.10000000149011612, ('master control room', 'LOCATION'): 0.10000000149011612, ('craig hines', 'PERSON'): 0.10000000149011612, ('kcpr', 'ORGANIZATION'): 0.06666667014360428, ('ksly', 'ORGANIZATION'): 0.06666667014360428, ('william r. gurzi', 'PERSON'): 0.0, ('room 201', 'LOCATION'): -0.10000000149011612}\n",
      "{('bill gurzi', 'PERSON'): 0.7714285509926933, ('mid state electronics', 'ORGANIZATION'): 0.6000000238418579, (\"ed o'brien\", 'PERSON'): 0.5999999841054281, ('marty hijmans', 'PERSON'): 0.2666666607062022, ('sparta a-20', 'ORGANIZATION'): 0.20000000298023224, ('cal poly', 'ORGANIZATION'): 0.20000000298023224, ('sacramento', 'LOCATION'): 0.20000000298023224, ('kcpr', 'ORGANIZATION'): 0.13999999761581422, ('sparta', 'LOCATION'): 0.0800000011920929, ('glenn daly', 'PERSON'): 0.06666666766007741, ('san luis obispo', 'LOCATION'): 0.05000000074505806, ('ksly', 'ORGANIZATION'): 0.0, ('eric dausman', 'PERSON'): 0.0, ('kvec', 'ORGANIZATION'): 0.0, ('craig', 'PERSON'): 0.0, ('walnut street', 'LOCATION'): 0.0, ('a-20', 'ORGANIZATION'): -0.16666666169961294, ('la', 'LOCATION'): -0.30000001192092896}\n",
      "{('rek-o-cut', 'PERSON'): 0.15000000223517418, ('sparta', 'LOCATION'): 0.0, ('shure', 'ORGANIZATION'): 0.0, ('b-12', 'ORGANIZATION'): 0.0, ('rek-o-kut', 'LOCATION'): 0.0, ('kcpr', 'ORGANIZATION'): -0.05000000074505806}\n",
      "{('sparta', 'LOCATION'): -0.06666666766007741, ('ampex', 'ORGANIZATION'): -0.20000000298023224}\n",
      "{('studio b', 'ORGANIZATION'): 0.699999988079071, ('radio hill', 'LOCATION'): 0.4000000059604645, ('pacific bell', 'ORGANIZATION'): 0.4000000059604645, ('dickey', 'PERSON'): 0.30000001192092896, ('sandercock street', 'LOCATION'): 0.30000001192092896, ('electrical engineering department', 'ORGANIZATION'): 0.30000001192092896, ('kkdj', 'ORGANIZATION'): 0.20000000670552254, ('steve ruegnitz', 'PERSON'): 0.20000000670552254, ('poly royal', 'PERSON'): 0.20000000298023224, ('katy-fm', 'PERSON'): 0.17999999821186066, ('rg-218', 'LOCATION'): 0.15000000099341074, ('v', 'LOCATION'): 0.12222222321563297, ('kvec', 'ORGANIZATION'): 0.10000000149011612, ('radio shack', 'ORGANIZATION'): 0.10000000149011612, ('kiis', 'ORGANIZATION'): 0.10000000149011612, ('mt', 'LOCATION'): 0.10000000149011612, ('eric dausman', 'PERSON'): 0.08108108027561291, ('kcpr', 'ORGANIZATION'): 0.06363636322996834, ('rick smith', 'PERSON'): 0.05714285799435207, ('fm', 'ORGANIZATION'): 0.036363635550845756, ('jampro', 'ORGANIZATION'): 0.027272729033773594, ('harold hallikainen', 'PERSON'): 0.020000001415610313, ('katy', 'PERSON'): 0.019999997317790986, ('katy', 'LOCATION'): 0.019999997317790986, ('bernie wise', 'PERSON'): 0.0, ('sparta', 'LOCATION'): 0.0, ('cal poly', 'ORGANIZATION'): 0.0, ('bernie box', 'PERSON'): 0.0, ('sparta electronics', 'ORGANIZATION'): 0.0, ('gates rdc', 'ORGANIZATION'): 0.0, ('ita', 'ORGANIZATION'): -0.008333334078391394, ('john grandy', 'PERSON'): -0.05000000074505806, ('monterey street', 'LOCATION'): -0.06666667014360428, ('duane hill', 'PERSON'): -0.10000000149011612, ('ksly', 'ORGANIZATION'): -0.10000000149011612, ('jampro antenna company', 'ORGANIZATION'): -0.10000000149011612, ('graphics arts', 'ORGANIZATION'): -0.10000000149011612, ('stanford', 'ORGANIZATION'): -0.10000000149011612, ('sacramento', 'LOCATION'): -0.10000000149011612, ('class d', 'ORGANIZATION'): -0.10000000149011612, ('homer odem', 'PERSON'): -0.10500000156462193, ('rca', 'ORGANIZATION'): -0.15000000223517418, ('len filomeo', 'PERSON'): -0.20000000298023224, ('kuna-fm', 'ORGANIZATION'): -0.20000000298023224, ('wilson', 'PERSON'): -0.20000000298023224, ('vw', 'ORGANIZATION'): -0.20000000670552254, ('bauer', 'ORGANIZATION'): -0.3000000019868215, ('bauer', 'PERSON'): -0.3000000019868215, ('kzsu', 'ORGANIZATION'): -0.3999999947845936, ('san luis obispo', 'LOCATION'): -0.5, ('glenn daly', 'PERSON'): -0.699999988079071}\n"
     ]
    },
    {
     "name": "stdout",
     "output_type": "stream",
     "text": [
      "{('al beckner', 'PERSON'): 0.20000000298023224}\n"
     ]
    }
   ],
   "source": [
    "test_df['len_insights'] = test_df['Len'].apply(entity_sentiment)"
   ]
  },
  {
   "cell_type": "code",
   "execution_count": 16,
   "metadata": {
    "collapsed": true
   },
   "outputs": [
    {
     "name": "stdout",
     "output_type": "stream",
     "text": [
      "{('ksan', 'ORGANIZATION'): 0.800000011920929, ('ksjo', 'ORGANIZATION'): 0.800000011920929, ('graphic arts bldg', 'ORGANIZATION'): -0.10000000149011612}\n"
     ]
    },
    {
     "ename": "ResourceExhausted",
     "evalue": "429 Quota exceeded for quota metric 'Requests' and limit 'Requests per minute' of service 'language.googleapis.com' for consumer 'project_number:298180869348'.",
     "output_type": "error",
     "traceback": [
      "\u001b[0;31m---------------------------------------------------------------------------\u001b[0m",
      "\u001b[0;31m_InactiveRpcError\u001b[0m                         Traceback (most recent call last)",
      "\u001b[0;32m~/opt/anaconda3/lib/python3.8/site-packages/google/api_core/grpc_helpers.py\u001b[0m in \u001b[0;36merror_remapped_callable\u001b[0;34m(*args, **kwargs)\u001b[0m\n\u001b[1;32m     66\u001b[0m         \u001b[0;32mtry\u001b[0m\u001b[0;34m:\u001b[0m\u001b[0;34m\u001b[0m\u001b[0;34m\u001b[0m\u001b[0m\n\u001b[0;32m---> 67\u001b[0;31m             \u001b[0;32mreturn\u001b[0m \u001b[0mcallable_\u001b[0m\u001b[0;34m(\u001b[0m\u001b[0;34m*\u001b[0m\u001b[0margs\u001b[0m\u001b[0;34m,\u001b[0m \u001b[0;34m**\u001b[0m\u001b[0mkwargs\u001b[0m\u001b[0;34m)\u001b[0m\u001b[0;34m\u001b[0m\u001b[0;34m\u001b[0m\u001b[0m\n\u001b[0m\u001b[1;32m     68\u001b[0m         \u001b[0;32mexcept\u001b[0m \u001b[0mgrpc\u001b[0m\u001b[0;34m.\u001b[0m\u001b[0mRpcError\u001b[0m \u001b[0;32mas\u001b[0m \u001b[0mexc\u001b[0m\u001b[0;34m:\u001b[0m\u001b[0;34m\u001b[0m\u001b[0;34m\u001b[0m\u001b[0m\n",
      "\u001b[0;32m~/opt/anaconda3/lib/python3.8/site-packages/grpc/_channel.py\u001b[0m in \u001b[0;36m__call__\u001b[0;34m(self, request, timeout, metadata, credentials, wait_for_ready, compression)\u001b[0m\n\u001b[1;32m    825\u001b[0m                                       wait_for_ready, compression)\n\u001b[0;32m--> 826\u001b[0;31m         \u001b[0;32mreturn\u001b[0m \u001b[0m_end_unary_response_blocking\u001b[0m\u001b[0;34m(\u001b[0m\u001b[0mstate\u001b[0m\u001b[0;34m,\u001b[0m \u001b[0mcall\u001b[0m\u001b[0;34m,\u001b[0m \u001b[0;32mFalse\u001b[0m\u001b[0;34m,\u001b[0m \u001b[0;32mNone\u001b[0m\u001b[0;34m)\u001b[0m\u001b[0;34m\u001b[0m\u001b[0;34m\u001b[0m\u001b[0m\n\u001b[0m\u001b[1;32m    827\u001b[0m \u001b[0;34m\u001b[0m\u001b[0m\n",
      "\u001b[0;32m~/opt/anaconda3/lib/python3.8/site-packages/grpc/_channel.py\u001b[0m in \u001b[0;36m_end_unary_response_blocking\u001b[0;34m(state, call, with_call, deadline)\u001b[0m\n\u001b[1;32m    728\u001b[0m     \u001b[0;32melse\u001b[0m\u001b[0;34m:\u001b[0m\u001b[0;34m\u001b[0m\u001b[0;34m\u001b[0m\u001b[0m\n\u001b[0;32m--> 729\u001b[0;31m         \u001b[0;32mraise\u001b[0m \u001b[0m_InactiveRpcError\u001b[0m\u001b[0;34m(\u001b[0m\u001b[0mstate\u001b[0m\u001b[0;34m)\u001b[0m\u001b[0;34m\u001b[0m\u001b[0;34m\u001b[0m\u001b[0m\n\u001b[0m\u001b[1;32m    730\u001b[0m \u001b[0;34m\u001b[0m\u001b[0m\n",
      "\u001b[0;31m_InactiveRpcError\u001b[0m: <_InactiveRpcError of RPC that terminated with:\n\tstatus = StatusCode.RESOURCE_EXHAUSTED\n\tdetails = \"Quota exceeded for quota metric 'Requests' and limit 'Requests per minute' of service 'language.googleapis.com' for consumer 'project_number:298180869348'.\"\n\tdebug_error_string = \"{\"created\":\"@1631257040.849424000\",\"description\":\"Error received from peer ipv4:172.217.14.106:443\",\"file\":\"src/core/lib/surface/call.cc\",\"file_line\":1062,\"grpc_message\":\"Quota exceeded for quota metric 'Requests' and limit 'Requests per minute' of service 'language.googleapis.com' for consumer 'project_number:298180869348'.\",\"grpc_status\":8}\"\n>",
      "\nThe above exception was the direct cause of the following exception:\n",
      "\u001b[0;31mResourceExhausted\u001b[0m                         Traceback (most recent call last)",
      "\u001b[0;32m<ipython-input-16-9457b9cd3358>\u001b[0m in \u001b[0;36m<module>\u001b[0;34m\u001b[0m\n\u001b[1;32m      1\u001b[0m \u001b[0mtest_df\u001b[0m\u001b[0;34m[\u001b[0m\u001b[0;34m'Ed'\u001b[0m\u001b[0;34m]\u001b[0m \u001b[0;34m=\u001b[0m \u001b[0mtest_df\u001b[0m\u001b[0;34m[\u001b[0m\u001b[0;34m'Ed'\u001b[0m\u001b[0;34m]\u001b[0m\u001b[0;34m.\u001b[0m\u001b[0mastype\u001b[0m\u001b[0;34m(\u001b[0m\u001b[0mstr\u001b[0m\u001b[0;34m)\u001b[0m\u001b[0;34m\u001b[0m\u001b[0;34m\u001b[0m\u001b[0m\n\u001b[0;32m----> 2\u001b[0;31m \u001b[0mtest_df\u001b[0m\u001b[0;34m[\u001b[0m\u001b[0;34m'ed_insights'\u001b[0m\u001b[0;34m]\u001b[0m \u001b[0;34m=\u001b[0m \u001b[0mtest_df\u001b[0m\u001b[0;34m[\u001b[0m\u001b[0;34m'Ed'\u001b[0m\u001b[0;34m]\u001b[0m\u001b[0;34m.\u001b[0m\u001b[0mapply\u001b[0m\u001b[0;34m(\u001b[0m\u001b[0mentity_sentiment\u001b[0m\u001b[0;34m)\u001b[0m\u001b[0;34m\u001b[0m\u001b[0;34m\u001b[0m\u001b[0m\n\u001b[0m",
      "\u001b[0;32m~/opt/anaconda3/lib/python3.8/site-packages/pandas/core/series.py\u001b[0m in \u001b[0;36mapply\u001b[0;34m(self, func, convert_dtype, args, **kwds)\u001b[0m\n\u001b[1;32m   4198\u001b[0m             \u001b[0;32melse\u001b[0m\u001b[0;34m:\u001b[0m\u001b[0;34m\u001b[0m\u001b[0;34m\u001b[0m\u001b[0m\n\u001b[1;32m   4199\u001b[0m                 \u001b[0mvalues\u001b[0m \u001b[0;34m=\u001b[0m \u001b[0mself\u001b[0m\u001b[0;34m.\u001b[0m\u001b[0mastype\u001b[0m\u001b[0;34m(\u001b[0m\u001b[0mobject\u001b[0m\u001b[0;34m)\u001b[0m\u001b[0;34m.\u001b[0m\u001b[0m_values\u001b[0m\u001b[0;34m\u001b[0m\u001b[0;34m\u001b[0m\u001b[0m\n\u001b[0;32m-> 4200\u001b[0;31m                 \u001b[0mmapped\u001b[0m \u001b[0;34m=\u001b[0m \u001b[0mlib\u001b[0m\u001b[0;34m.\u001b[0m\u001b[0mmap_infer\u001b[0m\u001b[0;34m(\u001b[0m\u001b[0mvalues\u001b[0m\u001b[0;34m,\u001b[0m \u001b[0mf\u001b[0m\u001b[0;34m,\u001b[0m \u001b[0mconvert\u001b[0m\u001b[0;34m=\u001b[0m\u001b[0mconvert_dtype\u001b[0m\u001b[0;34m)\u001b[0m\u001b[0;34m\u001b[0m\u001b[0;34m\u001b[0m\u001b[0m\n\u001b[0m\u001b[1;32m   4201\u001b[0m \u001b[0;34m\u001b[0m\u001b[0m\n\u001b[1;32m   4202\u001b[0m         \u001b[0;32mif\u001b[0m \u001b[0mlen\u001b[0m\u001b[0;34m(\u001b[0m\u001b[0mmapped\u001b[0m\u001b[0;34m)\u001b[0m \u001b[0;32mand\u001b[0m \u001b[0misinstance\u001b[0m\u001b[0;34m(\u001b[0m\u001b[0mmapped\u001b[0m\u001b[0;34m[\u001b[0m\u001b[0;36m0\u001b[0m\u001b[0;34m]\u001b[0m\u001b[0;34m,\u001b[0m \u001b[0mSeries\u001b[0m\u001b[0;34m)\u001b[0m\u001b[0;34m:\u001b[0m\u001b[0;34m\u001b[0m\u001b[0;34m\u001b[0m\u001b[0m\n",
      "\u001b[0;32mpandas/_libs/lib.pyx\u001b[0m in \u001b[0;36mpandas._libs.lib.map_infer\u001b[0;34m()\u001b[0m\n",
      "\u001b[0;32m<ipython-input-10-486285357634>\u001b[0m in \u001b[0;36mentity_sentiment\u001b[0;34m(text)\u001b[0m\n\u001b[1;32m      1\u001b[0m \u001b[0;32mdef\u001b[0m \u001b[0mentity_sentiment\u001b[0m\u001b[0;34m(\u001b[0m\u001b[0mtext\u001b[0m\u001b[0;34m)\u001b[0m\u001b[0;34m:\u001b[0m\u001b[0;34m\u001b[0m\u001b[0;34m\u001b[0m\u001b[0m\n\u001b[1;32m      2\u001b[0m     \u001b[0;32mif\u001b[0m \u001b[0mlen\u001b[0m\u001b[0;34m(\u001b[0m\u001b[0mtext\u001b[0m\u001b[0;34m.\u001b[0m\u001b[0msplit\u001b[0m\u001b[0;34m(\u001b[0m\u001b[0;34m)\u001b[0m\u001b[0;34m)\u001b[0m \u001b[0;34m>\u001b[0m \u001b[0;36m0\u001b[0m\u001b[0;34m:\u001b[0m\u001b[0;34m\u001b[0m\u001b[0;34m\u001b[0m\u001b[0m\n\u001b[0;32m----> 3\u001b[0;31m         \u001b[0mr1\u001b[0m \u001b[0;34m=\u001b[0m \u001b[0mextract_entity\u001b[0m\u001b[0;34m(\u001b[0m\u001b[0mtext\u001b[0m\u001b[0;34m)\u001b[0m\u001b[0;34m\u001b[0m\u001b[0;34m\u001b[0m\u001b[0m\n\u001b[0m\u001b[1;32m      4\u001b[0m         \u001b[0mentities_sentiment\u001b[0m\u001b[0;34m=\u001b[0m\u001b[0;34m{\u001b[0m\u001b[0;34m}\u001b[0m\u001b[0;34m\u001b[0m\u001b[0;34m\u001b[0m\u001b[0m\n\u001b[1;32m      5\u001b[0m         \u001b[0;32mfor\u001b[0m \u001b[0me\u001b[0m \u001b[0;32min\u001b[0m \u001b[0mr1\u001b[0m\u001b[0;34m.\u001b[0m\u001b[0mentities\u001b[0m\u001b[0;34m:\u001b[0m\u001b[0;34m\u001b[0m\u001b[0;34m\u001b[0m\u001b[0m\n",
      "\u001b[0;32m<ipython-input-4-d8a5395b4adb>\u001b[0m in \u001b[0;36mextract_entity\u001b[0;34m(text)\u001b[0m\n\u001b[1;32m      2\u001b[0m     \u001b[0;32mglobal\u001b[0m \u001b[0mclient\u001b[0m\u001b[0;34m\u001b[0m\u001b[0;34m\u001b[0m\u001b[0m\n\u001b[1;32m      3\u001b[0m     \u001b[0mdocument\u001b[0m \u001b[0;34m=\u001b[0m \u001b[0mlanguage_v1\u001b[0m\u001b[0;34m.\u001b[0m\u001b[0mDocument\u001b[0m\u001b[0;34m(\u001b[0m\u001b[0mcontent\u001b[0m\u001b[0;34m=\u001b[0m\u001b[0mtext\u001b[0m\u001b[0;34m,\u001b[0m \u001b[0mtype_\u001b[0m\u001b[0;34m=\u001b[0m\u001b[0mlanguage_v1\u001b[0m\u001b[0;34m.\u001b[0m\u001b[0mDocument\u001b[0m\u001b[0;34m.\u001b[0m\u001b[0mType\u001b[0m\u001b[0;34m.\u001b[0m\u001b[0mPLAIN_TEXT\u001b[0m\u001b[0;34m)\u001b[0m\u001b[0;34m\u001b[0m\u001b[0;34m\u001b[0m\u001b[0m\n\u001b[0;32m----> 4\u001b[0;31m     \u001b[0;32mreturn\u001b[0m \u001b[0mclient\u001b[0m\u001b[0;34m.\u001b[0m\u001b[0manalyze_entities\u001b[0m\u001b[0;34m(\u001b[0m\u001b[0mrequest\u001b[0m\u001b[0;34m=\u001b[0m\u001b[0;34m{\u001b[0m\u001b[0;34m'document'\u001b[0m\u001b[0;34m:\u001b[0m \u001b[0mdocument\u001b[0m\u001b[0;34m}\u001b[0m\u001b[0;34m)\u001b[0m\u001b[0;34m\u001b[0m\u001b[0;34m\u001b[0m\u001b[0m\n\u001b[0m\u001b[1;32m      5\u001b[0m \u001b[0;34m\u001b[0m\u001b[0m\n\u001b[1;32m      6\u001b[0m \u001b[0;32mdef\u001b[0m \u001b[0mextract_sentiment\u001b[0m\u001b[0;34m(\u001b[0m\u001b[0mtext\u001b[0m\u001b[0;34m)\u001b[0m\u001b[0;34m:\u001b[0m\u001b[0;34m\u001b[0m\u001b[0;34m\u001b[0m\u001b[0m\n",
      "\u001b[0;32m~/opt/anaconda3/lib/python3.8/site-packages/google/cloud/language_v1/services/language_service/client.py\u001b[0m in \u001b[0;36manalyze_entities\u001b[0;34m(self, request, document, encoding_type, retry, timeout, metadata)\u001b[0m\n\u001b[1;32m    477\u001b[0m \u001b[0;34m\u001b[0m\u001b[0m\n\u001b[1;32m    478\u001b[0m         \u001b[0;31m# Send the request.\u001b[0m\u001b[0;34m\u001b[0m\u001b[0;34m\u001b[0m\u001b[0;34m\u001b[0m\u001b[0m\n\u001b[0;32m--> 479\u001b[0;31m         \u001b[0mresponse\u001b[0m \u001b[0;34m=\u001b[0m \u001b[0mrpc\u001b[0m\u001b[0;34m(\u001b[0m\u001b[0mrequest\u001b[0m\u001b[0;34m,\u001b[0m \u001b[0mretry\u001b[0m\u001b[0;34m=\u001b[0m\u001b[0mretry\u001b[0m\u001b[0;34m,\u001b[0m \u001b[0mtimeout\u001b[0m\u001b[0;34m=\u001b[0m\u001b[0mtimeout\u001b[0m\u001b[0;34m,\u001b[0m \u001b[0mmetadata\u001b[0m\u001b[0;34m=\u001b[0m\u001b[0mmetadata\u001b[0m\u001b[0;34m,\u001b[0m\u001b[0;34m)\u001b[0m\u001b[0;34m\u001b[0m\u001b[0;34m\u001b[0m\u001b[0m\n\u001b[0m\u001b[1;32m    480\u001b[0m \u001b[0;34m\u001b[0m\u001b[0m\n\u001b[1;32m    481\u001b[0m         \u001b[0;31m# Done; return the response.\u001b[0m\u001b[0;34m\u001b[0m\u001b[0;34m\u001b[0m\u001b[0;34m\u001b[0m\u001b[0m\n",
      "\u001b[0;32m~/opt/anaconda3/lib/python3.8/site-packages/google/api_core/gapic_v1/method.py\u001b[0m in \u001b[0;36m__call__\u001b[0;34m(self, *args, **kwargs)\u001b[0m\n\u001b[1;32m    143\u001b[0m             \u001b[0mkwargs\u001b[0m\u001b[0;34m[\u001b[0m\u001b[0;34m\"metadata\"\u001b[0m\u001b[0;34m]\u001b[0m \u001b[0;34m=\u001b[0m \u001b[0mmetadata\u001b[0m\u001b[0;34m\u001b[0m\u001b[0;34m\u001b[0m\u001b[0m\n\u001b[1;32m    144\u001b[0m \u001b[0;34m\u001b[0m\u001b[0m\n\u001b[0;32m--> 145\u001b[0;31m         \u001b[0;32mreturn\u001b[0m \u001b[0mwrapped_func\u001b[0m\u001b[0;34m(\u001b[0m\u001b[0;34m*\u001b[0m\u001b[0margs\u001b[0m\u001b[0;34m,\u001b[0m \u001b[0;34m**\u001b[0m\u001b[0mkwargs\u001b[0m\u001b[0;34m)\u001b[0m\u001b[0;34m\u001b[0m\u001b[0;34m\u001b[0m\u001b[0m\n\u001b[0m\u001b[1;32m    146\u001b[0m \u001b[0;34m\u001b[0m\u001b[0m\n\u001b[1;32m    147\u001b[0m \u001b[0;34m\u001b[0m\u001b[0m\n",
      "\u001b[0;32m~/opt/anaconda3/lib/python3.8/site-packages/google/api_core/retry.py\u001b[0m in \u001b[0;36mretry_wrapped_func\u001b[0;34m(*args, **kwargs)\u001b[0m\n\u001b[1;32m    283\u001b[0m                 \u001b[0mself\u001b[0m\u001b[0;34m.\u001b[0m\u001b[0m_initial\u001b[0m\u001b[0;34m,\u001b[0m \u001b[0mself\u001b[0m\u001b[0;34m.\u001b[0m\u001b[0m_maximum\u001b[0m\u001b[0;34m,\u001b[0m \u001b[0mmultiplier\u001b[0m\u001b[0;34m=\u001b[0m\u001b[0mself\u001b[0m\u001b[0;34m.\u001b[0m\u001b[0m_multiplier\u001b[0m\u001b[0;34m\u001b[0m\u001b[0;34m\u001b[0m\u001b[0m\n\u001b[1;32m    284\u001b[0m             )\n\u001b[0;32m--> 285\u001b[0;31m             return retry_target(\n\u001b[0m\u001b[1;32m    286\u001b[0m                 \u001b[0mtarget\u001b[0m\u001b[0;34m,\u001b[0m\u001b[0;34m\u001b[0m\u001b[0;34m\u001b[0m\u001b[0m\n\u001b[1;32m    287\u001b[0m                 \u001b[0mself\u001b[0m\u001b[0;34m.\u001b[0m\u001b[0m_predicate\u001b[0m\u001b[0;34m,\u001b[0m\u001b[0;34m\u001b[0m\u001b[0;34m\u001b[0m\u001b[0m\n",
      "\u001b[0;32m~/opt/anaconda3/lib/python3.8/site-packages/google/api_core/retry.py\u001b[0m in \u001b[0;36mretry_target\u001b[0;34m(target, predicate, sleep_generator, deadline, on_error)\u001b[0m\n\u001b[1;32m    186\u001b[0m     \u001b[0;32mfor\u001b[0m \u001b[0msleep\u001b[0m \u001b[0;32min\u001b[0m \u001b[0msleep_generator\u001b[0m\u001b[0;34m:\u001b[0m\u001b[0;34m\u001b[0m\u001b[0;34m\u001b[0m\u001b[0m\n\u001b[1;32m    187\u001b[0m         \u001b[0;32mtry\u001b[0m\u001b[0;34m:\u001b[0m\u001b[0;34m\u001b[0m\u001b[0;34m\u001b[0m\u001b[0m\n\u001b[0;32m--> 188\u001b[0;31m             \u001b[0;32mreturn\u001b[0m \u001b[0mtarget\u001b[0m\u001b[0;34m(\u001b[0m\u001b[0;34m)\u001b[0m\u001b[0;34m\u001b[0m\u001b[0;34m\u001b[0m\u001b[0m\n\u001b[0m\u001b[1;32m    189\u001b[0m \u001b[0;34m\u001b[0m\u001b[0m\n\u001b[1;32m    190\u001b[0m         \u001b[0;31m# pylint: disable=broad-except\u001b[0m\u001b[0;34m\u001b[0m\u001b[0;34m\u001b[0m\u001b[0;34m\u001b[0m\u001b[0m\n",
      "\u001b[0;32m~/opt/anaconda3/lib/python3.8/site-packages/google/api_core/grpc_helpers.py\u001b[0m in \u001b[0;36merror_remapped_callable\u001b[0;34m(*args, **kwargs)\u001b[0m\n\u001b[1;32m     67\u001b[0m             \u001b[0;32mreturn\u001b[0m \u001b[0mcallable_\u001b[0m\u001b[0;34m(\u001b[0m\u001b[0;34m*\u001b[0m\u001b[0margs\u001b[0m\u001b[0;34m,\u001b[0m \u001b[0;34m**\u001b[0m\u001b[0mkwargs\u001b[0m\u001b[0;34m)\u001b[0m\u001b[0;34m\u001b[0m\u001b[0;34m\u001b[0m\u001b[0m\n\u001b[1;32m     68\u001b[0m         \u001b[0;32mexcept\u001b[0m \u001b[0mgrpc\u001b[0m\u001b[0;34m.\u001b[0m\u001b[0mRpcError\u001b[0m \u001b[0;32mas\u001b[0m \u001b[0mexc\u001b[0m\u001b[0;34m:\u001b[0m\u001b[0;34m\u001b[0m\u001b[0;34m\u001b[0m\u001b[0m\n\u001b[0;32m---> 69\u001b[0;31m             \u001b[0msix\u001b[0m\u001b[0;34m.\u001b[0m\u001b[0mraise_from\u001b[0m\u001b[0;34m(\u001b[0m\u001b[0mexceptions\u001b[0m\u001b[0;34m.\u001b[0m\u001b[0mfrom_grpc_error\u001b[0m\u001b[0;34m(\u001b[0m\u001b[0mexc\u001b[0m\u001b[0;34m)\u001b[0m\u001b[0;34m,\u001b[0m \u001b[0mexc\u001b[0m\u001b[0;34m)\u001b[0m\u001b[0;34m\u001b[0m\u001b[0;34m\u001b[0m\u001b[0m\n\u001b[0m\u001b[1;32m     70\u001b[0m \u001b[0;34m\u001b[0m\u001b[0m\n\u001b[1;32m     71\u001b[0m     \u001b[0;32mreturn\u001b[0m \u001b[0merror_remapped_callable\u001b[0m\u001b[0;34m\u001b[0m\u001b[0;34m\u001b[0m\u001b[0m\n",
      "\u001b[0;32m~/opt/anaconda3/lib/python3.8/site-packages/six.py\u001b[0m in \u001b[0;36mraise_from\u001b[0;34m(value, from_value)\u001b[0m\n",
      "\u001b[0;31mResourceExhausted\u001b[0m: 429 Quota exceeded for quota metric 'Requests' and limit 'Requests per minute' of service 'language.googleapis.com' for consumer 'project_number:298180869348'."
     ]
    }
   ],
   "source": [
    "test_df['Ed'] = test_df['Ed'].astype(str)\n",
    "test_df['ed_insights'] = test_df['Ed'].apply(entity_sentiment)"
   ]
  },
  {
   "cell_type": "code",
   "execution_count": null,
   "metadata": {
    "scrolled": true
   },
   "outputs": [],
   "source": [
    "test_df['Woody'] = test_df['Ed'].astype(str)\n",
    "test_df['woody_insights'] = test_df['Woody'].apply(entity_sentiment)"
   ]
  },
  {
   "cell_type": "code",
   "execution_count": 17,
   "metadata": {},
   "outputs": [],
   "source": [
    "test_df.to_csv('analyzed platform data.csv')"
   ]
  },
  {
   "cell_type": "markdown",
   "metadata": {},
   "source": [
    "## Aggregation"
   ]
  },
  {
   "cell_type": "code",
   "execution_count": 18,
   "metadata": {},
   "outputs": [],
   "source": [
    "entities_dict = {}\n",
    "dfs=[]\n",
    "def get_dfs(d):\n",
    "    global dfs\n",
    "    entities_df = pd.DataFrame.from_dict(d, orient='index').reset_index().rename({'index':'entity',0:'sentiment'},axis=1)\n",
    "    dfs.append(entities_df)\n",
    "    \n",
    "test_df['len_insights'].apply(get_dfs)\n",
    "\n",
    "entities_df = pd.concat(dfs)"
   ]
  },
  {
   "cell_type": "code",
   "execution_count": 19,
   "metadata": {},
   "outputs": [],
   "source": [
    "entities_df['entity_type'] = entities_df['entity'].apply(lambda x: x[1])\n",
    "entities_df['entity'] = entities_df['entity'].apply(lambda x: x[0])"
   ]
  },
  {
   "cell_type": "code",
   "execution_count": 20,
   "metadata": {},
   "outputs": [],
   "source": [
    "agg_entities_df = entities_df.groupby(['entity','entity_type']).agg(['mean', 'count']).reset_index()\n",
    "agg_entities_df.columns = agg_entities_df.columns.droplevel(0)\n",
    "agg_entities_df.columns = ['entity','entity_type','sentiment', 'count']\n",
    "agg_entities_df.sort_values('sentiment', ascending=False , inplace=True)\n",
    "count_entities_df = agg_entities_df.sort_values('count', ascending=False )"
   ]
  },
  {
   "cell_type": "code",
   "execution_count": 21,
   "metadata": {},
   "outputs": [],
   "source": [
    "agg_entities_df.to_csv('aggregated entities in platform data.csv')"
   ]
  },
  {
   "cell_type": "code",
   "execution_count": 22,
   "metadata": {},
   "outputs": [],
   "source": [
    "agg_entities_df[agg_entities_df['entity_type']==\"PERSON\"].to_csv('people in platform data.csv')"
   ]
  },
  {
   "cell_type": "markdown",
   "metadata": {},
   "source": [
    "# Visuals"
   ]
  },
  {
   "cell_type": "markdown",
   "metadata": {},
   "source": [
    "Top 10 Entities by sentiment"
   ]
  },
  {
   "cell_type": "code",
   "execution_count": 25,
   "metadata": {},
   "outputs": [
    {
     "data": {
      "image/png": "[encoded data removed]",
      "text/plain": [
       "<Figure size 432x288 with 1 Axes>"
      ]
     },
     "metadata": {
      "needs_background": "light"
     },
     "output_type": "display_data"
    }
   ],
   "source": [
    "plt= agg_entities_df.head(10).sort_values('sentiment').plot.barh(x='entity', y='sentiment')\n"
   ]
  },
  {
   "cell_type": "markdown",
   "metadata": {},
   "source": [
    "Top 10 Entities by count"
   ]
  },
  {
   "cell_type": "code",
   "execution_count": 26,
   "metadata": {
    "scrolled": true
   },
   "outputs": [
    {
     "data": {
      "text/plain": [
       "<matplotlib.axes._subplots.AxesSubplot at 0x7fea321937c0>"
      ]
     },
     "execution_count": 26,
     "metadata": {},
     "output_type": "execute_result"
    },
    {
     "data": {
      "image/png": "[encoded data removed]",
      "text/plain": [
       "<Figure size 432x288 with 1 Axes>"
      ]
     },
     "metadata": {
      "needs_background": "light"
     },
     "output_type": "display_data"
    }
   ],
   "source": [
    "count_entities_df.head(10).sort_values('sentiment').plot.barh(x='entity', y='sentiment')"
   ]
  },
  {
   "cell_type": "markdown",
   "metadata": {},
   "source": [
    "Least 10 Entities by sentiment"
   ]
  },
  {
   "cell_type": "code",
   "execution_count": 27,
   "metadata": {
    "scrolled": true
   },
   "outputs": [
    {
     "data": {
      "text/plain": [
       "<matplotlib.axes._subplots.AxesSubplot at 0x7fea323ba550>"
      ]
     },
     "execution_count": 27,
     "metadata": {},
     "output_type": "execute_result"
    },
    {
     "data": {
      "image/png": "[encoded data removed]",
      "text/plain": [
       "<Figure size 432x288 with 1 Axes>"
      ]
     },
     "metadata": {
      "needs_background": "light"
     },
     "output_type": "display_data"
    }
   ],
   "source": [
    "count_entities_df.sort_values('sentiment').head(10).plot.barh(x='entity', y='sentiment')"
   ]
  },
  {
   "cell_type": "code",
   "execution_count": null,
   "metadata": {},
   "outputs": [],
   "source": []
  }
 ],
 "metadata": {
  "kernelspec": {
   "display_name": "Python 3",
   "language": "python",
   "name": "python3"
  },
  "language_info": {
   "codemirror_mode": {
    "name": "ipython",
    "version": 3
   },
   "file_extension": ".py",
   "mimetype": "text/x-python",
   "name": "python",
   "nbconvert_exporter": "python",
   "pygments_lexer": "ipython3",
   "version": "3.8.5"
  }
 },
 "nbformat": 4,
 "nbformat_minor": 4
}
